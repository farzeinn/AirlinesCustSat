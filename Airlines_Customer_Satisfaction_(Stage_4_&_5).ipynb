{
  "nbformat": 4,
  "nbformat_minor": 0,
  "metadata": {
    "colab": {
      "provenance": []
    },
    "kernelspec": {
      "display_name": "Python 3",
      "name": "python3"
    },
    "language_info": {
      "name": "python"
    }
  },
  "cells": [
    {
      "cell_type": "markdown",
      "metadata": {
        "id": "3TV6sYZFDzCv"
      },
      "source": [
        "#Stage 4 - Preprocessing"
      ]
    },
    {
      "cell_type": "code",
      "metadata": {
        "id": "9JV7dhOCsbxB"
      },
      "source": [
        "import pandas as pd\n",
        "import numpy as np\n",
        "import matplotlib.pyplot as plt\n",
        "import seaborn as sns"
      ],
      "execution_count": null,
      "outputs": []
    },
    {
      "cell_type": "code",
      "metadata": {
        "colab": {
          "base_uri": "https://localhost:8080/",
          "height": 365
        },
        "id": "b5QEnlp4sfTM",
        "outputId": "c0ddde20-a944-439f-acef-ef3b267d070d"
      },
      "source": [
        "data = pd.read_csv('Dataset_5 - Travel.csv')\n",
        "data.drop(columns=['Unnamed: 0'], axis=1, inplace=True)\n",
        "data.head()"
      ],
      "execution_count": null,
      "outputs": [
        {
          "output_type": "execute_result",
          "data": {
            "text/html": [
              "<div>\n",
              "<style scoped>\n",
              "    .dataframe tbody tr th:only-of-type {\n",
              "        vertical-align: middle;\n",
              "    }\n",
              "\n",
              "    .dataframe tbody tr th {\n",
              "        vertical-align: top;\n",
              "    }\n",
              "\n",
              "    .dataframe thead th {\n",
              "        text-align: right;\n",
              "    }\n",
              "</style>\n",
              "<table border=\"1\" class=\"dataframe\">\n",
              "  <thead>\n",
              "    <tr style=\"text-align: right;\">\n",
              "      <th></th>\n",
              "      <th>id</th>\n",
              "      <th>Gender</th>\n",
              "      <th>Customer Type</th>\n",
              "      <th>Age</th>\n",
              "      <th>Type of Travel</th>\n",
              "      <th>Class</th>\n",
              "      <th>Flight Distance</th>\n",
              "      <th>Inflight wifi service</th>\n",
              "      <th>Departure/Arrival time convenient</th>\n",
              "      <th>Ease of Online booking</th>\n",
              "      <th>Gate location</th>\n",
              "      <th>Food and drink</th>\n",
              "      <th>Online boarding</th>\n",
              "      <th>Seat comfort</th>\n",
              "      <th>Inflight entertainment</th>\n",
              "      <th>On-board service</th>\n",
              "      <th>Leg room service</th>\n",
              "      <th>Baggage handling</th>\n",
              "      <th>Checkin service</th>\n",
              "      <th>Inflight service</th>\n",
              "      <th>Cleanliness</th>\n",
              "      <th>Departure Delay in Minutes</th>\n",
              "      <th>Arrival Delay in Minutes</th>\n",
              "      <th>satisfaction</th>\n",
              "    </tr>\n",
              "  </thead>\n",
              "  <tbody>\n",
              "    <tr>\n",
              "      <th>0</th>\n",
              "      <td>70172</td>\n",
              "      <td>Male</td>\n",
              "      <td>Loyal Customer</td>\n",
              "      <td>13</td>\n",
              "      <td>Personal Travel</td>\n",
              "      <td>Eco Plus</td>\n",
              "      <td>460</td>\n",
              "      <td>3</td>\n",
              "      <td>4</td>\n",
              "      <td>3</td>\n",
              "      <td>1</td>\n",
              "      <td>5</td>\n",
              "      <td>3</td>\n",
              "      <td>5</td>\n",
              "      <td>5</td>\n",
              "      <td>4</td>\n",
              "      <td>3</td>\n",
              "      <td>4</td>\n",
              "      <td>4</td>\n",
              "      <td>5</td>\n",
              "      <td>5</td>\n",
              "      <td>25</td>\n",
              "      <td>18.0</td>\n",
              "      <td>neutral or dissatisfied</td>\n",
              "    </tr>\n",
              "    <tr>\n",
              "      <th>1</th>\n",
              "      <td>5047</td>\n",
              "      <td>Male</td>\n",
              "      <td>disloyal Customer</td>\n",
              "      <td>25</td>\n",
              "      <td>Business travel</td>\n",
              "      <td>Business</td>\n",
              "      <td>235</td>\n",
              "      <td>3</td>\n",
              "      <td>2</td>\n",
              "      <td>3</td>\n",
              "      <td>3</td>\n",
              "      <td>1</td>\n",
              "      <td>3</td>\n",
              "      <td>1</td>\n",
              "      <td>1</td>\n",
              "      <td>1</td>\n",
              "      <td>5</td>\n",
              "      <td>3</td>\n",
              "      <td>1</td>\n",
              "      <td>4</td>\n",
              "      <td>1</td>\n",
              "      <td>1</td>\n",
              "      <td>6.0</td>\n",
              "      <td>neutral or dissatisfied</td>\n",
              "    </tr>\n",
              "    <tr>\n",
              "      <th>2</th>\n",
              "      <td>110028</td>\n",
              "      <td>Female</td>\n",
              "      <td>Loyal Customer</td>\n",
              "      <td>26</td>\n",
              "      <td>Business travel</td>\n",
              "      <td>Business</td>\n",
              "      <td>1142</td>\n",
              "      <td>2</td>\n",
              "      <td>2</td>\n",
              "      <td>2</td>\n",
              "      <td>2</td>\n",
              "      <td>5</td>\n",
              "      <td>5</td>\n",
              "      <td>5</td>\n",
              "      <td>5</td>\n",
              "      <td>4</td>\n",
              "      <td>3</td>\n",
              "      <td>4</td>\n",
              "      <td>4</td>\n",
              "      <td>4</td>\n",
              "      <td>5</td>\n",
              "      <td>0</td>\n",
              "      <td>0.0</td>\n",
              "      <td>satisfied</td>\n",
              "    </tr>\n",
              "    <tr>\n",
              "      <th>3</th>\n",
              "      <td>24026</td>\n",
              "      <td>Female</td>\n",
              "      <td>Loyal Customer</td>\n",
              "      <td>25</td>\n",
              "      <td>Business travel</td>\n",
              "      <td>Business</td>\n",
              "      <td>562</td>\n",
              "      <td>2</td>\n",
              "      <td>5</td>\n",
              "      <td>5</td>\n",
              "      <td>5</td>\n",
              "      <td>2</td>\n",
              "      <td>2</td>\n",
              "      <td>2</td>\n",
              "      <td>2</td>\n",
              "      <td>2</td>\n",
              "      <td>5</td>\n",
              "      <td>3</td>\n",
              "      <td>1</td>\n",
              "      <td>4</td>\n",
              "      <td>2</td>\n",
              "      <td>11</td>\n",
              "      <td>9.0</td>\n",
              "      <td>neutral or dissatisfied</td>\n",
              "    </tr>\n",
              "    <tr>\n",
              "      <th>4</th>\n",
              "      <td>119299</td>\n",
              "      <td>Male</td>\n",
              "      <td>Loyal Customer</td>\n",
              "      <td>61</td>\n",
              "      <td>Business travel</td>\n",
              "      <td>Business</td>\n",
              "      <td>214</td>\n",
              "      <td>3</td>\n",
              "      <td>3</td>\n",
              "      <td>3</td>\n",
              "      <td>3</td>\n",
              "      <td>4</td>\n",
              "      <td>5</td>\n",
              "      <td>5</td>\n",
              "      <td>3</td>\n",
              "      <td>3</td>\n",
              "      <td>4</td>\n",
              "      <td>4</td>\n",
              "      <td>3</td>\n",
              "      <td>3</td>\n",
              "      <td>3</td>\n",
              "      <td>0</td>\n",
              "      <td>0.0</td>\n",
              "      <td>satisfied</td>\n",
              "    </tr>\n",
              "  </tbody>\n",
              "</table>\n",
              "</div>"
            ],
            "text/plain": [
              "       id  Gender  ... Arrival Delay in Minutes             satisfaction\n",
              "0   70172    Male  ...                     18.0  neutral or dissatisfied\n",
              "1    5047    Male  ...                      6.0  neutral or dissatisfied\n",
              "2  110028  Female  ...                      0.0                satisfied\n",
              "3   24026  Female  ...                      9.0  neutral or dissatisfied\n",
              "4  119299    Male  ...                      0.0                satisfied\n",
              "\n",
              "[5 rows x 24 columns]"
            ]
          },
          "metadata": {},
          "execution_count": 34
        }
      ]
    },
    {
      "cell_type": "code",
      "metadata": {
        "colab": {
          "base_uri": "https://localhost:8080/"
        },
        "id": "YpWle8IG3FnP",
        "outputId": "f0a7413c-46e3-46b3-c1a5-87fd4dff9425"
      },
      "source": [
        "data['Type of Travel'].unique()"
      ],
      "execution_count": null,
      "outputs": [
        {
          "output_type": "execute_result",
          "data": {
            "text/plain": [
              "array(['Personal Travel', 'Business travel'], dtype=object)"
            ]
          },
          "metadata": {},
          "execution_count": 39
        }
      ]
    },
    {
      "cell_type": "code",
      "metadata": {
        "colab": {
          "base_uri": "https://localhost:8080/"
        },
        "id": "kUfXheidwm8s",
        "outputId": "11b969a8-bcbb-4ea3-b573-bc72650820e2"
      },
      "source": [
        "data.dtypes"
      ],
      "execution_count": null,
      "outputs": [
        {
          "output_type": "execute_result",
          "data": {
            "text/plain": [
              "id                                     int64\n",
              "Gender                                object\n",
              "Customer Type                         object\n",
              "Age                                    int64\n",
              "Type of Travel                        object\n",
              "Class                                 object\n",
              "Flight Distance                        int64\n",
              "Inflight wifi service                  int64\n",
              "Departure/Arrival time convenient      int64\n",
              "Ease of Online booking                 int64\n",
              "Gate location                          int64\n",
              "Food and drink                         int64\n",
              "Online boarding                        int64\n",
              "Seat comfort                           int64\n",
              "Inflight entertainment                 int64\n",
              "On-board service                       int64\n",
              "Leg room service                       int64\n",
              "Baggage handling                       int64\n",
              "Checkin service                        int64\n",
              "Inflight service                       int64\n",
              "Cleanliness                            int64\n",
              "Departure Delay in Minutes             int64\n",
              "Arrival Delay in Minutes             float64\n",
              "satisfaction                          object\n",
              "dtype: object"
            ]
          },
          "metadata": {},
          "execution_count": 3
        }
      ]
    },
    {
      "cell_type": "code",
      "metadata": {
        "colab": {
          "base_uri": "https://localhost:8080/"
        },
        "id": "8tJGTrNjMXwQ",
        "outputId": "8996661b-e369-4ae7-a082-5b250751abc5"
      },
      "source": [
        "data.isna().sum()"
      ],
      "execution_count": null,
      "outputs": [
        {
          "output_type": "execute_result",
          "data": {
            "text/plain": [
              "id                                     0\n",
              "Gender                                 0\n",
              "Customer Type                          0\n",
              "Age                                    0\n",
              "Type of Travel                         0\n",
              "Class                                  0\n",
              "Flight Distance                        0\n",
              "Inflight wifi service                  0\n",
              "Departure/Arrival time convenient      0\n",
              "Ease of Online booking                 0\n",
              "Gate location                          0\n",
              "Food and drink                         0\n",
              "Online boarding                        0\n",
              "Seat comfort                           0\n",
              "Inflight entertainment                 0\n",
              "On-board service                       0\n",
              "Leg room service                       0\n",
              "Baggage handling                       0\n",
              "Checkin service                        0\n",
              "Inflight service                       0\n",
              "Cleanliness                            0\n",
              "Departure Delay in Minutes             0\n",
              "Arrival Delay in Minutes             310\n",
              "satisfaction                           0\n",
              "dtype: int64"
            ]
          },
          "metadata": {},
          "execution_count": 11
        }
      ]
    },
    {
      "cell_type": "code",
      "metadata": {
        "colab": {
          "base_uri": "https://localhost:8080/",
          "height": 81
        },
        "id": "JhDoNtcytBPM",
        "outputId": "7167921b-a87a-46fa-e996-8accbd53bede"
      },
      "source": [
        "null=pd.DataFrame(data.isnull().sum(),columns=['Total Null Values'])\n",
        "# null['%']=(data.isna().sum()/len(data)*100)\n",
        "null = null[null['Total Null Values'] > 0]\n",
        "null.style.background_gradient(cmap='viridis',low =0.2,high=0.1) #split data train dan data test"
      ],
      "execution_count": null,
      "outputs": [
        {
          "output_type": "execute_result",
          "data": {
            "text/html": [
              "<style  type=\"text/css\" >\n",
              "#T_ccf2426a_529e_11ec_9810_0242ac1c0002row0_col0{\n",
              "            background-color:  #440154;\n",
              "            color:  #f1f1f1;\n",
              "        }</style><table id=\"T_ccf2426a_529e_11ec_9810_0242ac1c0002\" class=\"dataframe\"><thead>    <tr>        <th class=\"blank level0\" ></th>        <th class=\"col_heading level0 col0\" >Total Null Values</th>    </tr></thead><tbody>\n",
              "                <tr>\n",
              "                        <th id=\"T_ccf2426a_529e_11ec_9810_0242ac1c0002level0_row0\" class=\"row_heading level0 row0\" >Arrival Delay in Minutes</th>\n",
              "                        <td id=\"T_ccf2426a_529e_11ec_9810_0242ac1c0002row0_col0\" class=\"data row0 col0\" >310</td>\n",
              "            </tr>\n",
              "    </tbody></table>"
            ],
            "text/plain": [
              "<pandas.io.formats.style.Styler at 0x7fde9da58350>"
            ]
          },
          "metadata": {},
          "execution_count": 12
        }
      ]
    },
    {
      "cell_type": "code",
      "metadata": {
        "colab": {
          "base_uri": "https://localhost:8080/"
        },
        "id": "YfUdE5Z9tcmt",
        "outputId": "ee619021-9933-4b39-82ed-d676ca90f8c8"
      },
      "source": [
        "data.duplicated().sum()"
      ],
      "execution_count": null,
      "outputs": [
        {
          "output_type": "execute_result",
          "data": {
            "text/plain": [
              "0"
            ]
          },
          "metadata": {},
          "execution_count": 13
        }
      ]
    },
    {
      "cell_type": "code",
      "metadata": {
        "colab": {
          "base_uri": "https://localhost:8080/",
          "height": 373
        },
        "id": "PUGcgeQD99ON",
        "outputId": "ba2c7d40-0e36-414a-91b5-75ab70202d7f"
      },
      "source": [
        "fig, axes = plt.subplots(1, 3, figsize = (15,5), sharey=True)\n",
        "fig.suptitle('Checking Outliers')\n",
        "\n",
        "sns.boxplot(ax=axes[0], data=data['Flight Distance'])\n",
        "axes[0].set_title('Flight Distance')\n",
        "\n",
        "sns.boxplot(ax=axes[1], data=data['Arrival Delay in Minutes']).set_title('Arrival Delay in Minutes')\n",
        "axes[1].set_title('Arrival Delay in Minutes')\n",
        "\n",
        "sns.boxplot(ax=axes[2], data=data['Departure Delay in Minutes']).set_title('Departure Delay in Minutes')\n",
        "axes[2].set_title('Departure Delay in Minutes')"
      ],
      "execution_count": null,
      "outputs": [
        {
          "data": {
            "text/plain": [
              "Text(0.5, 1.0, 'Departure Delay in Minutes')"
            ]
          },
          "execution_count": 7,
          "metadata": {},
          "output_type": "execute_result"
        },
        {
          "data": {
            "image/png": "[encoded data removed]",
            "text/plain": [
              "<Figure size 1080x360 with 3 Axes>"
            ]
          },
          "metadata": {},
          "output_type": "display_data"
        }
      ]
    },
    {
      "cell_type": "code",
      "metadata": {
        "id": "VX-L35-9tDF5"
      },
      "source": [
        "# print(f'Row counts before removing outlier: {len(data)}')\n",
        "\n",
        "# filtered_entries = np.array([True] * len(data))\n",
        "# Q1 = data['Flight Distance'].quantile(0.25)\n",
        "# Q3 = data['Flight Distance'].quantile(0.75)\n",
        "# IQR = Q3 - Q1\n",
        "# low_limit = Q1 - (IQR * 1.5)\n",
        "# high_limit = Q3 + (IQR * 1.5)\n",
        "\n",
        "# filtered_entries = ((data['Flight Distance'] >= low_limit) & (data['Flight Distance'] <= high_limit)) & filtered_entries\n",
        "\n",
        "# data = data[filtered_entries]\n",
        "\n",
        "# print(f'Row counts after removing outlier: {len(data)}')"
      ],
      "execution_count": null,
      "outputs": []
    },
    {
      "cell_type": "code",
      "metadata": {
        "id": "gJXsX6_qpU5S"
      },
      "source": [
        "# fig, axes = plt.subplots(1, 3, figsize = (15,5), sharey=True)\n",
        "# fig.suptitle('After Handling Outliers')\n",
        "\n",
        "# sns.boxplot(ax=axes[0], data=data['Flight Distance'])\n",
        "# axes[0].set_title('Flight Distance')\n",
        "\n",
        "# sns.boxplot(ax=axes[1], data=data['Arrival Delay in Minutes']).set_title('Arrival Delay in Minutes')\n",
        "# axes[1].set_title('Arrival Delay in Minutes')\n",
        "\n",
        "# sns.boxplot(ax=axes[2], data=data['Departure Delay in Minutes']).set_title('Departure Delay in Minutes')\n",
        "# axes[2].set_title('Departure Delay in Minutes')"
      ],
      "execution_count": null,
      "outputs": []
    },
    {
      "cell_type": "code",
      "metadata": {
        "colab": {
          "base_uri": "https://localhost:8080/"
        },
        "id": "JFXuXitxtIrT",
        "outputId": "a4f3a55b-c5e3-4ad4-a292-188099621102"
      },
      "source": [
        "print(f'Row counts before using Tarmac Delay Rules : {len(data)}')\n",
        "\n",
        "data.drop(data[(data['Departure Delay in Minutes'] > 180)].index, inplace=True)\n",
        "data.drop(data[(data['Arrival Delay in Minutes'] > 180)].index, inplace=True)\n",
        "\n",
        "print(f'Row counts after using Tarmac Delay Rules : {len(data)}')"
      ],
      "execution_count": null,
      "outputs": [
        {
          "name": "stdout",
          "output_type": "stream",
          "text": [
            "Row counts before using Tarmac Delay Rules : 103904\n",
            "Row counts after using Tarmac Delay Rules : 102706\n"
          ]
        }
      ]
    },
    {
      "cell_type": "markdown",
      "metadata": {
        "id": "QIYwF94RqLaZ"
      },
      "source": [
        "##Data Discretization"
      ]
    },
    {
      "cell_type": "code",
      "metadata": {
        "id": "vNqbgBk9qKqN"
      },
      "source": [
        "from sklearn.preprocessing import KBinsDiscretizer"
      ],
      "execution_count": null,
      "outputs": []
    },
    {
      "cell_type": "code",
      "metadata": {
        "id": "rpB017OgqhMA"
      },
      "source": [
        "est = KBinsDiscretizer(n_bins=5, encode='ordinal', strategy='quantile')\n",
        "data['Flight Distance'] = est.fit_transform(data['Flight Distance'].values.reshape(-1,1))"
      ],
      "execution_count": null,
      "outputs": []
    },
    {
      "cell_type": "code",
      "metadata": {
        "colab": {
          "base_uri": "https://localhost:8080/",
          "height": 423
        },
        "id": "XGAQpNUA45QJ",
        "outputId": "b99155c7-c228-4a33-ddf3-49a76943bded"
      },
      "source": [
        "data[['Flight Distance']]"
      ],
      "execution_count": null,
      "outputs": [
        {
          "output_type": "execute_result",
          "data": {
            "text/html": [
              "<div>\n",
              "<style scoped>\n",
              "    .dataframe tbody tr th:only-of-type {\n",
              "        vertical-align: middle;\n",
              "    }\n",
              "\n",
              "    .dataframe tbody tr th {\n",
              "        vertical-align: top;\n",
              "    }\n",
              "\n",
              "    .dataframe thead th {\n",
              "        text-align: right;\n",
              "    }\n",
              "</style>\n",
              "<table border=\"1\" class=\"dataframe\">\n",
              "  <thead>\n",
              "    <tr style=\"text-align: right;\">\n",
              "      <th></th>\n",
              "      <th>Flight Distance</th>\n",
              "    </tr>\n",
              "  </thead>\n",
              "  <tbody>\n",
              "    <tr>\n",
              "      <th>0</th>\n",
              "      <td>1.0</td>\n",
              "    </tr>\n",
              "    <tr>\n",
              "      <th>1</th>\n",
              "      <td>0.0</td>\n",
              "    </tr>\n",
              "    <tr>\n",
              "      <th>2</th>\n",
              "      <td>3.0</td>\n",
              "    </tr>\n",
              "    <tr>\n",
              "      <th>3</th>\n",
              "      <td>1.0</td>\n",
              "    </tr>\n",
              "    <tr>\n",
              "      <th>4</th>\n",
              "      <td>0.0</td>\n",
              "    </tr>\n",
              "    <tr>\n",
              "      <th>...</th>\n",
              "      <td>...</td>\n",
              "    </tr>\n",
              "    <tr>\n",
              "      <th>103899</th>\n",
              "      <td>0.0</td>\n",
              "    </tr>\n",
              "    <tr>\n",
              "      <th>103900</th>\n",
              "      <td>4.0</td>\n",
              "    </tr>\n",
              "    <tr>\n",
              "      <th>103901</th>\n",
              "      <td>3.0</td>\n",
              "    </tr>\n",
              "    <tr>\n",
              "      <th>103902</th>\n",
              "      <td>2.0</td>\n",
              "    </tr>\n",
              "    <tr>\n",
              "      <th>103903</th>\n",
              "      <td>3.0</td>\n",
              "    </tr>\n",
              "  </tbody>\n",
              "</table>\n",
              "<p>103904 rows × 1 columns</p>\n",
              "</div>"
            ],
            "text/plain": [
              "        Flight Distance\n",
              "0                   1.0\n",
              "1                   0.0\n",
              "2                   3.0\n",
              "3                   1.0\n",
              "4                   0.0\n",
              "...                 ...\n",
              "103899              0.0\n",
              "103900              4.0\n",
              "103901              3.0\n",
              "103902              2.0\n",
              "103903              3.0\n",
              "\n",
              "[103904 rows x 1 columns]"
            ]
          },
          "metadata": {},
          "execution_count": 16
        }
      ]
    },
    {
      "cell_type": "code",
      "metadata": {
        "colab": {
          "base_uri": "https://localhost:8080/",
          "height": 365
        },
        "id": "302-DBpC3WgD",
        "outputId": "8e009729-e64c-43dd-a9d4-e06210038c30"
      },
      "source": [
        "data.head()"
      ],
      "execution_count": null,
      "outputs": [
        {
          "data": {
            "text/html": [
              "<div>\n",
              "<style scoped>\n",
              "    .dataframe tbody tr th:only-of-type {\n",
              "        vertical-align: middle;\n",
              "    }\n",
              "\n",
              "    .dataframe tbody tr th {\n",
              "        vertical-align: top;\n",
              "    }\n",
              "\n",
              "    .dataframe thead th {\n",
              "        text-align: right;\n",
              "    }\n",
              "</style>\n",
              "<table border=\"1\" class=\"dataframe\">\n",
              "  <thead>\n",
              "    <tr style=\"text-align: right;\">\n",
              "      <th></th>\n",
              "      <th>id</th>\n",
              "      <th>Gender</th>\n",
              "      <th>Customer Type</th>\n",
              "      <th>Age</th>\n",
              "      <th>Type of Travel</th>\n",
              "      <th>Class</th>\n",
              "      <th>Flight Distance</th>\n",
              "      <th>Inflight wifi service</th>\n",
              "      <th>Departure/Arrival time convenient</th>\n",
              "      <th>Ease of Online booking</th>\n",
              "      <th>Gate location</th>\n",
              "      <th>Food and drink</th>\n",
              "      <th>Online boarding</th>\n",
              "      <th>Seat comfort</th>\n",
              "      <th>Inflight entertainment</th>\n",
              "      <th>On-board service</th>\n",
              "      <th>Leg room service</th>\n",
              "      <th>Baggage handling</th>\n",
              "      <th>Checkin service</th>\n",
              "      <th>Inflight service</th>\n",
              "      <th>Cleanliness</th>\n",
              "      <th>Departure Delay in Minutes</th>\n",
              "      <th>Arrival Delay in Minutes</th>\n",
              "      <th>satisfaction</th>\n",
              "    </tr>\n",
              "  </thead>\n",
              "  <tbody>\n",
              "    <tr>\n",
              "      <th>0</th>\n",
              "      <td>70172</td>\n",
              "      <td>Male</td>\n",
              "      <td>Loyal Customer</td>\n",
              "      <td>13</td>\n",
              "      <td>Personal Travel</td>\n",
              "      <td>Eco Plus</td>\n",
              "      <td>1.0</td>\n",
              "      <td>3</td>\n",
              "      <td>4</td>\n",
              "      <td>3</td>\n",
              "      <td>1</td>\n",
              "      <td>5</td>\n",
              "      <td>3</td>\n",
              "      <td>5</td>\n",
              "      <td>5</td>\n",
              "      <td>4</td>\n",
              "      <td>3</td>\n",
              "      <td>4</td>\n",
              "      <td>4</td>\n",
              "      <td>5</td>\n",
              "      <td>5</td>\n",
              "      <td>25</td>\n",
              "      <td>18.0</td>\n",
              "      <td>neutral or dissatisfied</td>\n",
              "    </tr>\n",
              "    <tr>\n",
              "      <th>1</th>\n",
              "      <td>5047</td>\n",
              "      <td>Male</td>\n",
              "      <td>disloyal Customer</td>\n",
              "      <td>25</td>\n",
              "      <td>Business travel</td>\n",
              "      <td>Business</td>\n",
              "      <td>0.0</td>\n",
              "      <td>3</td>\n",
              "      <td>2</td>\n",
              "      <td>3</td>\n",
              "      <td>3</td>\n",
              "      <td>1</td>\n",
              "      <td>3</td>\n",
              "      <td>1</td>\n",
              "      <td>1</td>\n",
              "      <td>1</td>\n",
              "      <td>5</td>\n",
              "      <td>3</td>\n",
              "      <td>1</td>\n",
              "      <td>4</td>\n",
              "      <td>1</td>\n",
              "      <td>1</td>\n",
              "      <td>6.0</td>\n",
              "      <td>neutral or dissatisfied</td>\n",
              "    </tr>\n",
              "    <tr>\n",
              "      <th>2</th>\n",
              "      <td>110028</td>\n",
              "      <td>Female</td>\n",
              "      <td>Loyal Customer</td>\n",
              "      <td>26</td>\n",
              "      <td>Business travel</td>\n",
              "      <td>Business</td>\n",
              "      <td>3.0</td>\n",
              "      <td>2</td>\n",
              "      <td>2</td>\n",
              "      <td>2</td>\n",
              "      <td>2</td>\n",
              "      <td>5</td>\n",
              "      <td>5</td>\n",
              "      <td>5</td>\n",
              "      <td>5</td>\n",
              "      <td>4</td>\n",
              "      <td>3</td>\n",
              "      <td>4</td>\n",
              "      <td>4</td>\n",
              "      <td>4</td>\n",
              "      <td>5</td>\n",
              "      <td>0</td>\n",
              "      <td>0.0</td>\n",
              "      <td>satisfied</td>\n",
              "    </tr>\n",
              "    <tr>\n",
              "      <th>3</th>\n",
              "      <td>24026</td>\n",
              "      <td>Female</td>\n",
              "      <td>Loyal Customer</td>\n",
              "      <td>25</td>\n",
              "      <td>Business travel</td>\n",
              "      <td>Business</td>\n",
              "      <td>1.0</td>\n",
              "      <td>2</td>\n",
              "      <td>5</td>\n",
              "      <td>5</td>\n",
              "      <td>5</td>\n",
              "      <td>2</td>\n",
              "      <td>2</td>\n",
              "      <td>2</td>\n",
              "      <td>2</td>\n",
              "      <td>2</td>\n",
              "      <td>5</td>\n",
              "      <td>3</td>\n",
              "      <td>1</td>\n",
              "      <td>4</td>\n",
              "      <td>2</td>\n",
              "      <td>11</td>\n",
              "      <td>9.0</td>\n",
              "      <td>neutral or dissatisfied</td>\n",
              "    </tr>\n",
              "    <tr>\n",
              "      <th>4</th>\n",
              "      <td>119299</td>\n",
              "      <td>Male</td>\n",
              "      <td>Loyal Customer</td>\n",
              "      <td>61</td>\n",
              "      <td>Business travel</td>\n",
              "      <td>Business</td>\n",
              "      <td>0.0</td>\n",
              "      <td>3</td>\n",
              "      <td>3</td>\n",
              "      <td>3</td>\n",
              "      <td>3</td>\n",
              "      <td>4</td>\n",
              "      <td>5</td>\n",
              "      <td>5</td>\n",
              "      <td>3</td>\n",
              "      <td>3</td>\n",
              "      <td>4</td>\n",
              "      <td>4</td>\n",
              "      <td>3</td>\n",
              "      <td>3</td>\n",
              "      <td>3</td>\n",
              "      <td>0</td>\n",
              "      <td>0.0</td>\n",
              "      <td>satisfied</td>\n",
              "    </tr>\n",
              "  </tbody>\n",
              "</table>\n",
              "</div>"
            ],
            "text/plain": [
              "       id  Gender  ... Arrival Delay in Minutes             satisfaction\n",
              "0   70172    Male  ...                     18.0  neutral or dissatisfied\n",
              "1    5047    Male  ...                      6.0  neutral or dissatisfied\n",
              "2  110028  Female  ...                      0.0                satisfied\n",
              "3   24026  Female  ...                      9.0  neutral or dissatisfied\n",
              "4  119299    Male  ...                      0.0                satisfied\n",
              "\n",
              "[5 rows x 24 columns]"
            ]
          },
          "execution_count": 13,
          "metadata": {},
          "output_type": "execute_result"
        }
      ]
    },
    {
      "cell_type": "markdown",
      "metadata": {
        "id": "xBXLCUFytrg7"
      },
      "source": [
        "## Feature Encoding"
      ]
    },
    {
      "cell_type": "code",
      "metadata": {
        "colab": {
          "base_uri": "https://localhost:8080/",
          "height": 423
        },
        "id": "Y9pwyX5u5HG0",
        "outputId": "26ef0932-5c43-4d95-c45a-cbc8ba22dbb1"
      },
      "source": [
        "data[['satisfaction']]"
      ],
      "execution_count": null,
      "outputs": [
        {
          "output_type": "execute_result",
          "data": {
            "text/html": [
              "<div>\n",
              "<style scoped>\n",
              "    .dataframe tbody tr th:only-of-type {\n",
              "        vertical-align: middle;\n",
              "    }\n",
              "\n",
              "    .dataframe tbody tr th {\n",
              "        vertical-align: top;\n",
              "    }\n",
              "\n",
              "    .dataframe thead th {\n",
              "        text-align: right;\n",
              "    }\n",
              "</style>\n",
              "<table border=\"1\" class=\"dataframe\">\n",
              "  <thead>\n",
              "    <tr style=\"text-align: right;\">\n",
              "      <th></th>\n",
              "      <th>satisfaction</th>\n",
              "    </tr>\n",
              "  </thead>\n",
              "  <tbody>\n",
              "    <tr>\n",
              "      <th>0</th>\n",
              "      <td>neutral or dissatisfied</td>\n",
              "    </tr>\n",
              "    <tr>\n",
              "      <th>1</th>\n",
              "      <td>neutral or dissatisfied</td>\n",
              "    </tr>\n",
              "    <tr>\n",
              "      <th>2</th>\n",
              "      <td>satisfied</td>\n",
              "    </tr>\n",
              "    <tr>\n",
              "      <th>3</th>\n",
              "      <td>neutral or dissatisfied</td>\n",
              "    </tr>\n",
              "    <tr>\n",
              "      <th>4</th>\n",
              "      <td>satisfied</td>\n",
              "    </tr>\n",
              "    <tr>\n",
              "      <th>...</th>\n",
              "      <td>...</td>\n",
              "    </tr>\n",
              "    <tr>\n",
              "      <th>103899</th>\n",
              "      <td>neutral or dissatisfied</td>\n",
              "    </tr>\n",
              "    <tr>\n",
              "      <th>103900</th>\n",
              "      <td>satisfied</td>\n",
              "    </tr>\n",
              "    <tr>\n",
              "      <th>103901</th>\n",
              "      <td>neutral or dissatisfied</td>\n",
              "    </tr>\n",
              "    <tr>\n",
              "      <th>103902</th>\n",
              "      <td>neutral or dissatisfied</td>\n",
              "    </tr>\n",
              "    <tr>\n",
              "      <th>103903</th>\n",
              "      <td>neutral or dissatisfied</td>\n",
              "    </tr>\n",
              "  </tbody>\n",
              "</table>\n",
              "<p>103904 rows × 1 columns</p>\n",
              "</div>"
            ],
            "text/plain": [
              "                   satisfaction\n",
              "0       neutral or dissatisfied\n",
              "1       neutral or dissatisfied\n",
              "2                     satisfied\n",
              "3       neutral or dissatisfied\n",
              "4                     satisfied\n",
              "...                         ...\n",
              "103899  neutral or dissatisfied\n",
              "103900                satisfied\n",
              "103901  neutral or dissatisfied\n",
              "103902  neutral or dissatisfied\n",
              "103903  neutral or dissatisfied\n",
              "\n",
              "[103904 rows x 1 columns]"
            ]
          },
          "metadata": {},
          "execution_count": 18
        }
      ]
    },
    {
      "cell_type": "code",
      "metadata": {
        "id": "9YubklCItnbk"
      },
      "source": [
        "data['Gender'] = data['Gender'].replace({\n",
        "        'Female': 0,\n",
        "        'Male': 1\n",
        "        })\n",
        "data['Customer Type'] = data['Customer Type'].replace({\n",
        "        'disloyal Customer': 0,\n",
        "        'Loyal Customer': 1\n",
        "        })\n",
        "data['Type of Travel'] = data['Type of Travel'].replace({\n",
        "        'Personal Travel': 0,\n",
        "        'Business travel': 1\n",
        "        })\n",
        "data['satisfaction'] = data['satisfaction'].replace({\n",
        "        'neutral or dissatisfied': 0,\n",
        "        'satisfied': 1\n",
        "        })"
      ],
      "execution_count": null,
      "outputs": []
    },
    {
      "cell_type": "code",
      "metadata": {
        "colab": {
          "base_uri": "https://localhost:8080/",
          "height": 423
        },
        "id": "fEFQ5wd65nEv",
        "outputId": "f6862276-a130-40b4-f1b7-827b21994164"
      },
      "source": [
        "data[['satisfaction']]"
      ],
      "execution_count": null,
      "outputs": [
        {
          "output_type": "execute_result",
          "data": {
            "text/html": [
              "<div>\n",
              "<style scoped>\n",
              "    .dataframe tbody tr th:only-of-type {\n",
              "        vertical-align: middle;\n",
              "    }\n",
              "\n",
              "    .dataframe tbody tr th {\n",
              "        vertical-align: top;\n",
              "    }\n",
              "\n",
              "    .dataframe thead th {\n",
              "        text-align: right;\n",
              "    }\n",
              "</style>\n",
              "<table border=\"1\" class=\"dataframe\">\n",
              "  <thead>\n",
              "    <tr style=\"text-align: right;\">\n",
              "      <th></th>\n",
              "      <th>satisfaction</th>\n",
              "    </tr>\n",
              "  </thead>\n",
              "  <tbody>\n",
              "    <tr>\n",
              "      <th>0</th>\n",
              "      <td>0</td>\n",
              "    </tr>\n",
              "    <tr>\n",
              "      <th>1</th>\n",
              "      <td>0</td>\n",
              "    </tr>\n",
              "    <tr>\n",
              "      <th>2</th>\n",
              "      <td>1</td>\n",
              "    </tr>\n",
              "    <tr>\n",
              "      <th>3</th>\n",
              "      <td>0</td>\n",
              "    </tr>\n",
              "    <tr>\n",
              "      <th>4</th>\n",
              "      <td>1</td>\n",
              "    </tr>\n",
              "    <tr>\n",
              "      <th>...</th>\n",
              "      <td>...</td>\n",
              "    </tr>\n",
              "    <tr>\n",
              "      <th>103899</th>\n",
              "      <td>0</td>\n",
              "    </tr>\n",
              "    <tr>\n",
              "      <th>103900</th>\n",
              "      <td>1</td>\n",
              "    </tr>\n",
              "    <tr>\n",
              "      <th>103901</th>\n",
              "      <td>0</td>\n",
              "    </tr>\n",
              "    <tr>\n",
              "      <th>103902</th>\n",
              "      <td>0</td>\n",
              "    </tr>\n",
              "    <tr>\n",
              "      <th>103903</th>\n",
              "      <td>0</td>\n",
              "    </tr>\n",
              "  </tbody>\n",
              "</table>\n",
              "<p>103904 rows × 1 columns</p>\n",
              "</div>"
            ],
            "text/plain": [
              "        satisfaction\n",
              "0                  0\n",
              "1                  0\n",
              "2                  1\n",
              "3                  0\n",
              "4                  1\n",
              "...              ...\n",
              "103899             0\n",
              "103900             1\n",
              "103901             0\n",
              "103902             0\n",
              "103903             0\n",
              "\n",
              "[103904 rows x 1 columns]"
            ]
          },
          "metadata": {},
          "execution_count": 21
        }
      ]
    },
    {
      "cell_type": "code",
      "metadata": {
        "colab": {
          "base_uri": "https://localhost:8080/",
          "height": 423
        },
        "id": "iTW2-OBn53BR",
        "outputId": "fddbd560-e5af-4410-e8b3-44914610542e"
      },
      "source": [
        "data[['Class']]"
      ],
      "execution_count": null,
      "outputs": [
        {
          "output_type": "execute_result",
          "data": {
            "text/html": [
              "<div>\n",
              "<style scoped>\n",
              "    .dataframe tbody tr th:only-of-type {\n",
              "        vertical-align: middle;\n",
              "    }\n",
              "\n",
              "    .dataframe tbody tr th {\n",
              "        vertical-align: top;\n",
              "    }\n",
              "\n",
              "    .dataframe thead th {\n",
              "        text-align: right;\n",
              "    }\n",
              "</style>\n",
              "<table border=\"1\" class=\"dataframe\">\n",
              "  <thead>\n",
              "    <tr style=\"text-align: right;\">\n",
              "      <th></th>\n",
              "      <th>Class</th>\n",
              "    </tr>\n",
              "  </thead>\n",
              "  <tbody>\n",
              "    <tr>\n",
              "      <th>0</th>\n",
              "      <td>Eco Plus</td>\n",
              "    </tr>\n",
              "    <tr>\n",
              "      <th>1</th>\n",
              "      <td>Business</td>\n",
              "    </tr>\n",
              "    <tr>\n",
              "      <th>2</th>\n",
              "      <td>Business</td>\n",
              "    </tr>\n",
              "    <tr>\n",
              "      <th>3</th>\n",
              "      <td>Business</td>\n",
              "    </tr>\n",
              "    <tr>\n",
              "      <th>4</th>\n",
              "      <td>Business</td>\n",
              "    </tr>\n",
              "    <tr>\n",
              "      <th>...</th>\n",
              "      <td>...</td>\n",
              "    </tr>\n",
              "    <tr>\n",
              "      <th>103899</th>\n",
              "      <td>Eco</td>\n",
              "    </tr>\n",
              "    <tr>\n",
              "      <th>103900</th>\n",
              "      <td>Business</td>\n",
              "    </tr>\n",
              "    <tr>\n",
              "      <th>103901</th>\n",
              "      <td>Business</td>\n",
              "    </tr>\n",
              "    <tr>\n",
              "      <th>103902</th>\n",
              "      <td>Eco</td>\n",
              "    </tr>\n",
              "    <tr>\n",
              "      <th>103903</th>\n",
              "      <td>Business</td>\n",
              "    </tr>\n",
              "  </tbody>\n",
              "</table>\n",
              "<p>103904 rows × 1 columns</p>\n",
              "</div>"
            ],
            "text/plain": [
              "           Class\n",
              "0       Eco Plus\n",
              "1       Business\n",
              "2       Business\n",
              "3       Business\n",
              "4       Business\n",
              "...          ...\n",
              "103899       Eco\n",
              "103900  Business\n",
              "103901  Business\n",
              "103902       Eco\n",
              "103903  Business\n",
              "\n",
              "[103904 rows x 1 columns]"
            ]
          },
          "metadata": {},
          "execution_count": 22
        }
      ]
    },
    {
      "cell_type": "code",
      "metadata": {
        "id": "4Q6w9RqWFjn-"
      },
      "source": [
        "# for x in data.index:\n",
        "#   if data.loc[x, \"Flight Distance\"] < 1000:\n",
        "#     data.loc[x, \"Flight Distance\"] = 0\n",
        "#   elif data.loc[x, \"Flight Distance\"] < 2000:\n",
        "#     data.loc[x, \"Flight Distance\"] = 1\n",
        "#   else:\n",
        "#     data.loc[x, \"Flight Distance\"] = 2"
      ],
      "execution_count": null,
      "outputs": []
    },
    {
      "cell_type": "code",
      "metadata": {
        "id": "fQW9pc94tx6z"
      },
      "source": [
        "dummies = pd.get_dummies(data.Class)\n",
        "data = pd.concat([data, dummies], axis='columns')\n",
        "data.drop(['Class'], axis='columns', inplace=True)"
      ],
      "execution_count": null,
      "outputs": []
    },
    {
      "cell_type": "code",
      "metadata": {
        "colab": {
          "base_uri": "https://localhost:8080/",
          "height": 423
        },
        "id": "3Jimrv5v6Hjc",
        "outputId": "1673067a-f9e1-4481-82de-7dee4e583177"
      },
      "source": [
        "dummies"
      ],
      "execution_count": null,
      "outputs": [
        {
          "output_type": "execute_result",
          "data": {
            "text/html": [
              "<div>\n",
              "<style scoped>\n",
              "    .dataframe tbody tr th:only-of-type {\n",
              "        vertical-align: middle;\n",
              "    }\n",
              "\n",
              "    .dataframe tbody tr th {\n",
              "        vertical-align: top;\n",
              "    }\n",
              "\n",
              "    .dataframe thead th {\n",
              "        text-align: right;\n",
              "    }\n",
              "</style>\n",
              "<table border=\"1\" class=\"dataframe\">\n",
              "  <thead>\n",
              "    <tr style=\"text-align: right;\">\n",
              "      <th></th>\n",
              "      <th>Business</th>\n",
              "      <th>Eco</th>\n",
              "      <th>Eco Plus</th>\n",
              "    </tr>\n",
              "  </thead>\n",
              "  <tbody>\n",
              "    <tr>\n",
              "      <th>0</th>\n",
              "      <td>0</td>\n",
              "      <td>0</td>\n",
              "      <td>1</td>\n",
              "    </tr>\n",
              "    <tr>\n",
              "      <th>1</th>\n",
              "      <td>1</td>\n",
              "      <td>0</td>\n",
              "      <td>0</td>\n",
              "    </tr>\n",
              "    <tr>\n",
              "      <th>2</th>\n",
              "      <td>1</td>\n",
              "      <td>0</td>\n",
              "      <td>0</td>\n",
              "    </tr>\n",
              "    <tr>\n",
              "      <th>3</th>\n",
              "      <td>1</td>\n",
              "      <td>0</td>\n",
              "      <td>0</td>\n",
              "    </tr>\n",
              "    <tr>\n",
              "      <th>4</th>\n",
              "      <td>1</td>\n",
              "      <td>0</td>\n",
              "      <td>0</td>\n",
              "    </tr>\n",
              "    <tr>\n",
              "      <th>...</th>\n",
              "      <td>...</td>\n",
              "      <td>...</td>\n",
              "      <td>...</td>\n",
              "    </tr>\n",
              "    <tr>\n",
              "      <th>103899</th>\n",
              "      <td>0</td>\n",
              "      <td>1</td>\n",
              "      <td>0</td>\n",
              "    </tr>\n",
              "    <tr>\n",
              "      <th>103900</th>\n",
              "      <td>1</td>\n",
              "      <td>0</td>\n",
              "      <td>0</td>\n",
              "    </tr>\n",
              "    <tr>\n",
              "      <th>103901</th>\n",
              "      <td>1</td>\n",
              "      <td>0</td>\n",
              "      <td>0</td>\n",
              "    </tr>\n",
              "    <tr>\n",
              "      <th>103902</th>\n",
              "      <td>0</td>\n",
              "      <td>1</td>\n",
              "      <td>0</td>\n",
              "    </tr>\n",
              "    <tr>\n",
              "      <th>103903</th>\n",
              "      <td>1</td>\n",
              "      <td>0</td>\n",
              "      <td>0</td>\n",
              "    </tr>\n",
              "  </tbody>\n",
              "</table>\n",
              "<p>103904 rows × 3 columns</p>\n",
              "</div>"
            ],
            "text/plain": [
              "        Business  Eco  Eco Plus\n",
              "0              0    0         1\n",
              "1              1    0         0\n",
              "2              1    0         0\n",
              "3              1    0         0\n",
              "4              1    0         0\n",
              "...          ...  ...       ...\n",
              "103899         0    1         0\n",
              "103900         1    0         0\n",
              "103901         1    0         0\n",
              "103902         0    1         0\n",
              "103903         1    0         0\n",
              "\n",
              "[103904 rows x 3 columns]"
            ]
          },
          "metadata": {},
          "execution_count": 24
        }
      ]
    },
    {
      "cell_type": "code",
      "metadata": {
        "colab": {
          "base_uri": "https://localhost:8080/",
          "height": 278
        },
        "id": "4LMg5EvUt01m",
        "outputId": "179405e0-80c1-417f-e32d-3064e59269bb"
      },
      "source": [
        "data.head()"
      ],
      "execution_count": null,
      "outputs": [
        {
          "data": {
            "text/html": [
              "<div>\n",
              "<style scoped>\n",
              "    .dataframe tbody tr th:only-of-type {\n",
              "        vertical-align: middle;\n",
              "    }\n",
              "\n",
              "    .dataframe tbody tr th {\n",
              "        vertical-align: top;\n",
              "    }\n",
              "\n",
              "    .dataframe thead th {\n",
              "        text-align: right;\n",
              "    }\n",
              "</style>\n",
              "<table border=\"1\" class=\"dataframe\">\n",
              "  <thead>\n",
              "    <tr style=\"text-align: right;\">\n",
              "      <th></th>\n",
              "      <th>id</th>\n",
              "      <th>Gender</th>\n",
              "      <th>Customer Type</th>\n",
              "      <th>Age</th>\n",
              "      <th>Type of Travel</th>\n",
              "      <th>Flight Distance</th>\n",
              "      <th>Inflight wifi service</th>\n",
              "      <th>Departure/Arrival time convenient</th>\n",
              "      <th>Ease of Online booking</th>\n",
              "      <th>Gate location</th>\n",
              "      <th>Food and drink</th>\n",
              "      <th>Online boarding</th>\n",
              "      <th>Seat comfort</th>\n",
              "      <th>Inflight entertainment</th>\n",
              "      <th>On-board service</th>\n",
              "      <th>Leg room service</th>\n",
              "      <th>Baggage handling</th>\n",
              "      <th>Checkin service</th>\n",
              "      <th>Inflight service</th>\n",
              "      <th>Cleanliness</th>\n",
              "      <th>Departure Delay in Minutes</th>\n",
              "      <th>Arrival Delay in Minutes</th>\n",
              "      <th>satisfaction</th>\n",
              "      <th>Business</th>\n",
              "      <th>Eco</th>\n",
              "      <th>Eco Plus</th>\n",
              "    </tr>\n",
              "  </thead>\n",
              "  <tbody>\n",
              "    <tr>\n",
              "      <th>0</th>\n",
              "      <td>70172</td>\n",
              "      <td>1</td>\n",
              "      <td>1</td>\n",
              "      <td>13</td>\n",
              "      <td>0</td>\n",
              "      <td>1.0</td>\n",
              "      <td>3</td>\n",
              "      <td>4</td>\n",
              "      <td>3</td>\n",
              "      <td>1</td>\n",
              "      <td>5</td>\n",
              "      <td>3</td>\n",
              "      <td>5</td>\n",
              "      <td>5</td>\n",
              "      <td>4</td>\n",
              "      <td>3</td>\n",
              "      <td>4</td>\n",
              "      <td>4</td>\n",
              "      <td>5</td>\n",
              "      <td>5</td>\n",
              "      <td>25</td>\n",
              "      <td>18.0</td>\n",
              "      <td>0</td>\n",
              "      <td>0</td>\n",
              "      <td>0</td>\n",
              "      <td>1</td>\n",
              "    </tr>\n",
              "    <tr>\n",
              "      <th>1</th>\n",
              "      <td>5047</td>\n",
              "      <td>1</td>\n",
              "      <td>0</td>\n",
              "      <td>25</td>\n",
              "      <td>1</td>\n",
              "      <td>0.0</td>\n",
              "      <td>3</td>\n",
              "      <td>2</td>\n",
              "      <td>3</td>\n",
              "      <td>3</td>\n",
              "      <td>1</td>\n",
              "      <td>3</td>\n",
              "      <td>1</td>\n",
              "      <td>1</td>\n",
              "      <td>1</td>\n",
              "      <td>5</td>\n",
              "      <td>3</td>\n",
              "      <td>1</td>\n",
              "      <td>4</td>\n",
              "      <td>1</td>\n",
              "      <td>1</td>\n",
              "      <td>6.0</td>\n",
              "      <td>0</td>\n",
              "      <td>1</td>\n",
              "      <td>0</td>\n",
              "      <td>0</td>\n",
              "    </tr>\n",
              "    <tr>\n",
              "      <th>2</th>\n",
              "      <td>110028</td>\n",
              "      <td>0</td>\n",
              "      <td>1</td>\n",
              "      <td>26</td>\n",
              "      <td>1</td>\n",
              "      <td>3.0</td>\n",
              "      <td>2</td>\n",
              "      <td>2</td>\n",
              "      <td>2</td>\n",
              "      <td>2</td>\n",
              "      <td>5</td>\n",
              "      <td>5</td>\n",
              "      <td>5</td>\n",
              "      <td>5</td>\n",
              "      <td>4</td>\n",
              "      <td>3</td>\n",
              "      <td>4</td>\n",
              "      <td>4</td>\n",
              "      <td>4</td>\n",
              "      <td>5</td>\n",
              "      <td>0</td>\n",
              "      <td>0.0</td>\n",
              "      <td>1</td>\n",
              "      <td>1</td>\n",
              "      <td>0</td>\n",
              "      <td>0</td>\n",
              "    </tr>\n",
              "    <tr>\n",
              "      <th>3</th>\n",
              "      <td>24026</td>\n",
              "      <td>0</td>\n",
              "      <td>1</td>\n",
              "      <td>25</td>\n",
              "      <td>1</td>\n",
              "      <td>1.0</td>\n",
              "      <td>2</td>\n",
              "      <td>5</td>\n",
              "      <td>5</td>\n",
              "      <td>5</td>\n",
              "      <td>2</td>\n",
              "      <td>2</td>\n",
              "      <td>2</td>\n",
              "      <td>2</td>\n",
              "      <td>2</td>\n",
              "      <td>5</td>\n",
              "      <td>3</td>\n",
              "      <td>1</td>\n",
              "      <td>4</td>\n",
              "      <td>2</td>\n",
              "      <td>11</td>\n",
              "      <td>9.0</td>\n",
              "      <td>0</td>\n",
              "      <td>1</td>\n",
              "      <td>0</td>\n",
              "      <td>0</td>\n",
              "    </tr>\n",
              "    <tr>\n",
              "      <th>4</th>\n",
              "      <td>119299</td>\n",
              "      <td>1</td>\n",
              "      <td>1</td>\n",
              "      <td>61</td>\n",
              "      <td>1</td>\n",
              "      <td>0.0</td>\n",
              "      <td>3</td>\n",
              "      <td>3</td>\n",
              "      <td>3</td>\n",
              "      <td>3</td>\n",
              "      <td>4</td>\n",
              "      <td>5</td>\n",
              "      <td>5</td>\n",
              "      <td>3</td>\n",
              "      <td>3</td>\n",
              "      <td>4</td>\n",
              "      <td>4</td>\n",
              "      <td>3</td>\n",
              "      <td>3</td>\n",
              "      <td>3</td>\n",
              "      <td>0</td>\n",
              "      <td>0.0</td>\n",
              "      <td>1</td>\n",
              "      <td>1</td>\n",
              "      <td>0</td>\n",
              "      <td>0</td>\n",
              "    </tr>\n",
              "  </tbody>\n",
              "</table>\n",
              "</div>"
            ],
            "text/plain": [
              "       id  Gender  Customer Type  Age  ...  satisfaction  Business  Eco  Eco Plus\n",
              "0   70172       1              1   13  ...             0         0    0         1\n",
              "1    5047       1              0   25  ...             0         1    0         0\n",
              "2  110028       0              1   26  ...             1         1    0         0\n",
              "3   24026       0              1   25  ...             0         1    0         0\n",
              "4  119299       1              1   61  ...             1         1    0         0\n",
              "\n",
              "[5 rows x 26 columns]"
            ]
          },
          "execution_count": 17,
          "metadata": {},
          "output_type": "execute_result"
        }
      ]
    },
    {
      "cell_type": "markdown",
      "metadata": {
        "id": "5QKMZwO6PrkL"
      },
      "source": [
        "## checking corr"
      ]
    },
    {
      "cell_type": "code",
      "metadata": {
        "colab": {
          "base_uri": "https://localhost:8080/",
          "height": 424
        },
        "id": "C5diKdP6uM8C",
        "outputId": "478366ac-ff9b-45bf-da55-7468187fced7"
      },
      "source": [
        "df = data[['Customer Type', 'Type of Travel', 'Business', 'Eco', 'Eco Plus', 'Flight Distance', 'satisfaction']]\n",
        "df"
      ],
      "execution_count": null,
      "outputs": [
        {
          "data": {
            "text/html": [
              "<div>\n",
              "<style scoped>\n",
              "    .dataframe tbody tr th:only-of-type {\n",
              "        vertical-align: middle;\n",
              "    }\n",
              "\n",
              "    .dataframe tbody tr th {\n",
              "        vertical-align: top;\n",
              "    }\n",
              "\n",
              "    .dataframe thead th {\n",
              "        text-align: right;\n",
              "    }\n",
              "</style>\n",
              "<table border=\"1\" class=\"dataframe\">\n",
              "  <thead>\n",
              "    <tr style=\"text-align: right;\">\n",
              "      <th></th>\n",
              "      <th>Customer Type</th>\n",
              "      <th>Type of Travel</th>\n",
              "      <th>Business</th>\n",
              "      <th>Eco</th>\n",
              "      <th>Eco Plus</th>\n",
              "      <th>Flight Distance</th>\n",
              "      <th>satisfaction</th>\n",
              "    </tr>\n",
              "  </thead>\n",
              "  <tbody>\n",
              "    <tr>\n",
              "      <th>0</th>\n",
              "      <td>1</td>\n",
              "      <td>0</td>\n",
              "      <td>0</td>\n",
              "      <td>0</td>\n",
              "      <td>1</td>\n",
              "      <td>1.0</td>\n",
              "      <td>0</td>\n",
              "    </tr>\n",
              "    <tr>\n",
              "      <th>1</th>\n",
              "      <td>0</td>\n",
              "      <td>1</td>\n",
              "      <td>1</td>\n",
              "      <td>0</td>\n",
              "      <td>0</td>\n",
              "      <td>0.0</td>\n",
              "      <td>0</td>\n",
              "    </tr>\n",
              "    <tr>\n",
              "      <th>2</th>\n",
              "      <td>1</td>\n",
              "      <td>1</td>\n",
              "      <td>1</td>\n",
              "      <td>0</td>\n",
              "      <td>0</td>\n",
              "      <td>3.0</td>\n",
              "      <td>1</td>\n",
              "    </tr>\n",
              "    <tr>\n",
              "      <th>3</th>\n",
              "      <td>1</td>\n",
              "      <td>1</td>\n",
              "      <td>1</td>\n",
              "      <td>0</td>\n",
              "      <td>0</td>\n",
              "      <td>1.0</td>\n",
              "      <td>0</td>\n",
              "    </tr>\n",
              "    <tr>\n",
              "      <th>4</th>\n",
              "      <td>1</td>\n",
              "      <td>1</td>\n",
              "      <td>1</td>\n",
              "      <td>0</td>\n",
              "      <td>0</td>\n",
              "      <td>0.0</td>\n",
              "      <td>1</td>\n",
              "    </tr>\n",
              "    <tr>\n",
              "      <th>...</th>\n",
              "      <td>...</td>\n",
              "      <td>...</td>\n",
              "      <td>...</td>\n",
              "      <td>...</td>\n",
              "      <td>...</td>\n",
              "      <td>...</td>\n",
              "      <td>...</td>\n",
              "    </tr>\n",
              "    <tr>\n",
              "      <th>103899</th>\n",
              "      <td>0</td>\n",
              "      <td>1</td>\n",
              "      <td>0</td>\n",
              "      <td>1</td>\n",
              "      <td>0</td>\n",
              "      <td>0.0</td>\n",
              "      <td>0</td>\n",
              "    </tr>\n",
              "    <tr>\n",
              "      <th>103900</th>\n",
              "      <td>1</td>\n",
              "      <td>1</td>\n",
              "      <td>1</td>\n",
              "      <td>0</td>\n",
              "      <td>0</td>\n",
              "      <td>4.0</td>\n",
              "      <td>1</td>\n",
              "    </tr>\n",
              "    <tr>\n",
              "      <th>103901</th>\n",
              "      <td>0</td>\n",
              "      <td>1</td>\n",
              "      <td>1</td>\n",
              "      <td>0</td>\n",
              "      <td>0</td>\n",
              "      <td>3.0</td>\n",
              "      <td>0</td>\n",
              "    </tr>\n",
              "    <tr>\n",
              "      <th>103902</th>\n",
              "      <td>0</td>\n",
              "      <td>1</td>\n",
              "      <td>0</td>\n",
              "      <td>1</td>\n",
              "      <td>0</td>\n",
              "      <td>2.0</td>\n",
              "      <td>0</td>\n",
              "    </tr>\n",
              "    <tr>\n",
              "      <th>103903</th>\n",
              "      <td>1</td>\n",
              "      <td>1</td>\n",
              "      <td>1</td>\n",
              "      <td>0</td>\n",
              "      <td>0</td>\n",
              "      <td>3.0</td>\n",
              "      <td>0</td>\n",
              "    </tr>\n",
              "  </tbody>\n",
              "</table>\n",
              "<p>102706 rows × 7 columns</p>\n",
              "</div>"
            ],
            "text/plain": [
              "        Customer Type  Type of Travel  ...  Flight Distance  satisfaction\n",
              "0                   1               0  ...              1.0             0\n",
              "1                   0               1  ...              0.0             0\n",
              "2                   1               1  ...              3.0             1\n",
              "3                   1               1  ...              1.0             0\n",
              "4                   1               1  ...              0.0             1\n",
              "...               ...             ...  ...              ...           ...\n",
              "103899              0               1  ...              0.0             0\n",
              "103900              1               1  ...              4.0             1\n",
              "103901              0               1  ...              3.0             0\n",
              "103902              0               1  ...              2.0             0\n",
              "103903              1               1  ...              3.0             0\n",
              "\n",
              "[102706 rows x 7 columns]"
            ]
          },
          "execution_count": 18,
          "metadata": {},
          "output_type": "execute_result"
        }
      ]
    },
    {
      "cell_type": "code",
      "metadata": {
        "colab": {
          "base_uri": "https://localhost:8080/",
          "height": 569
        },
        "id": "8xIjOTaXPz0z",
        "outputId": "bf337260-c37b-4baf-c5c2-452d6f52f43e"
      },
      "source": [
        "fig, ax = plt.subplots(figsize = (25,12))\n",
        "sns.heatmap((data.corr()), annot = True);"
      ],
      "execution_count": null,
      "outputs": [
        {
          "data": {
            "image/png": "[encoded data removed]",
            "text/plain": [
              "<Figure size 1800x864 with 2 Axes>"
            ]
          },
          "metadata": {},
          "output_type": "display_data"
        }
      ]
    },
    {
      "cell_type": "markdown",
      "metadata": {
        "id": "LZa4-OJit8wu"
      },
      "source": [
        "## dropping not relevant features"
      ]
    },
    {
      "cell_type": "code",
      "metadata": {
        "id": "wrZ8V7Apt2Fn"
      },
      "source": [
        "data.drop(['id', 'Gender', 'Age', 'Type of Travel'], axis = 1, inplace=True) #beri penjelasan kenapa didrop"
      ],
      "execution_count": null,
      "outputs": []
    },
    {
      "cell_type": "code",
      "metadata": {
        "colab": {
          "base_uri": "https://localhost:8080/",
          "height": 278
        },
        "id": "AdNqjPRa9sDX",
        "outputId": "18fd809e-350f-449a-b1d8-66b3c5024c85"
      },
      "source": [
        "data.head()"
      ],
      "execution_count": null,
      "outputs": [
        {
          "data": {
            "text/html": [
              "<div>\n",
              "<style scoped>\n",
              "    .dataframe tbody tr th:only-of-type {\n",
              "        vertical-align: middle;\n",
              "    }\n",
              "\n",
              "    .dataframe tbody tr th {\n",
              "        vertical-align: top;\n",
              "    }\n",
              "\n",
              "    .dataframe thead th {\n",
              "        text-align: right;\n",
              "    }\n",
              "</style>\n",
              "<table border=\"1\" class=\"dataframe\">\n",
              "  <thead>\n",
              "    <tr style=\"text-align: right;\">\n",
              "      <th></th>\n",
              "      <th>Customer Type</th>\n",
              "      <th>Flight Distance</th>\n",
              "      <th>Inflight wifi service</th>\n",
              "      <th>Departure/Arrival time convenient</th>\n",
              "      <th>Ease of Online booking</th>\n",
              "      <th>Gate location</th>\n",
              "      <th>Food and drink</th>\n",
              "      <th>Online boarding</th>\n",
              "      <th>Seat comfort</th>\n",
              "      <th>Inflight entertainment</th>\n",
              "      <th>On-board service</th>\n",
              "      <th>Leg room service</th>\n",
              "      <th>Baggage handling</th>\n",
              "      <th>Checkin service</th>\n",
              "      <th>Inflight service</th>\n",
              "      <th>Cleanliness</th>\n",
              "      <th>Departure Delay in Minutes</th>\n",
              "      <th>Arrival Delay in Minutes</th>\n",
              "      <th>satisfaction</th>\n",
              "      <th>Business</th>\n",
              "      <th>Eco</th>\n",
              "      <th>Eco Plus</th>\n",
              "    </tr>\n",
              "  </thead>\n",
              "  <tbody>\n",
              "    <tr>\n",
              "      <th>0</th>\n",
              "      <td>1</td>\n",
              "      <td>1.0</td>\n",
              "      <td>3</td>\n",
              "      <td>4</td>\n",
              "      <td>3</td>\n",
              "      <td>1</td>\n",
              "      <td>5</td>\n",
              "      <td>3</td>\n",
              "      <td>5</td>\n",
              "      <td>5</td>\n",
              "      <td>4</td>\n",
              "      <td>3</td>\n",
              "      <td>4</td>\n",
              "      <td>4</td>\n",
              "      <td>5</td>\n",
              "      <td>5</td>\n",
              "      <td>25</td>\n",
              "      <td>18.0</td>\n",
              "      <td>0</td>\n",
              "      <td>0</td>\n",
              "      <td>0</td>\n",
              "      <td>1</td>\n",
              "    </tr>\n",
              "    <tr>\n",
              "      <th>1</th>\n",
              "      <td>0</td>\n",
              "      <td>0.0</td>\n",
              "      <td>3</td>\n",
              "      <td>2</td>\n",
              "      <td>3</td>\n",
              "      <td>3</td>\n",
              "      <td>1</td>\n",
              "      <td>3</td>\n",
              "      <td>1</td>\n",
              "      <td>1</td>\n",
              "      <td>1</td>\n",
              "      <td>5</td>\n",
              "      <td>3</td>\n",
              "      <td>1</td>\n",
              "      <td>4</td>\n",
              "      <td>1</td>\n",
              "      <td>1</td>\n",
              "      <td>6.0</td>\n",
              "      <td>0</td>\n",
              "      <td>1</td>\n",
              "      <td>0</td>\n",
              "      <td>0</td>\n",
              "    </tr>\n",
              "    <tr>\n",
              "      <th>2</th>\n",
              "      <td>1</td>\n",
              "      <td>3.0</td>\n",
              "      <td>2</td>\n",
              "      <td>2</td>\n",
              "      <td>2</td>\n",
              "      <td>2</td>\n",
              "      <td>5</td>\n",
              "      <td>5</td>\n",
              "      <td>5</td>\n",
              "      <td>5</td>\n",
              "      <td>4</td>\n",
              "      <td>3</td>\n",
              "      <td>4</td>\n",
              "      <td>4</td>\n",
              "      <td>4</td>\n",
              "      <td>5</td>\n",
              "      <td>0</td>\n",
              "      <td>0.0</td>\n",
              "      <td>1</td>\n",
              "      <td>1</td>\n",
              "      <td>0</td>\n",
              "      <td>0</td>\n",
              "    </tr>\n",
              "    <tr>\n",
              "      <th>3</th>\n",
              "      <td>1</td>\n",
              "      <td>1.0</td>\n",
              "      <td>2</td>\n",
              "      <td>5</td>\n",
              "      <td>5</td>\n",
              "      <td>5</td>\n",
              "      <td>2</td>\n",
              "      <td>2</td>\n",
              "      <td>2</td>\n",
              "      <td>2</td>\n",
              "      <td>2</td>\n",
              "      <td>5</td>\n",
              "      <td>3</td>\n",
              "      <td>1</td>\n",
              "      <td>4</td>\n",
              "      <td>2</td>\n",
              "      <td>11</td>\n",
              "      <td>9.0</td>\n",
              "      <td>0</td>\n",
              "      <td>1</td>\n",
              "      <td>0</td>\n",
              "      <td>0</td>\n",
              "    </tr>\n",
              "    <tr>\n",
              "      <th>4</th>\n",
              "      <td>1</td>\n",
              "      <td>0.0</td>\n",
              "      <td>3</td>\n",
              "      <td>3</td>\n",
              "      <td>3</td>\n",
              "      <td>3</td>\n",
              "      <td>4</td>\n",
              "      <td>5</td>\n",
              "      <td>5</td>\n",
              "      <td>3</td>\n",
              "      <td>3</td>\n",
              "      <td>4</td>\n",
              "      <td>4</td>\n",
              "      <td>3</td>\n",
              "      <td>3</td>\n",
              "      <td>3</td>\n",
              "      <td>0</td>\n",
              "      <td>0.0</td>\n",
              "      <td>1</td>\n",
              "      <td>1</td>\n",
              "      <td>0</td>\n",
              "      <td>0</td>\n",
              "    </tr>\n",
              "  </tbody>\n",
              "</table>\n",
              "</div>"
            ],
            "text/plain": [
              "   Customer Type  Flight Distance  ...  Eco  Eco Plus\n",
              "0              1              1.0  ...    0         1\n",
              "1              0              0.0  ...    0         0\n",
              "2              1              3.0  ...    0         0\n",
              "3              1              1.0  ...    0         0\n",
              "4              1              0.0  ...    0         0\n",
              "\n",
              "[5 rows x 22 columns]"
            ]
          },
          "execution_count": 21,
          "metadata": {},
          "output_type": "execute_result"
        }
      ]
    },
    {
      "cell_type": "markdown",
      "metadata": {
        "id": "EsR74liMvBbS"
      },
      "source": [
        "## Splitting"
      ]
    },
    {
      "cell_type": "code",
      "metadata": {
        "id": "FxKy1wLhuqUf"
      },
      "source": [
        "from sklearn.model_selection import train_test_split"
      ],
      "execution_count": null,
      "outputs": []
    },
    {
      "cell_type": "code",
      "metadata": {
        "id": "PSB4iUx4v3Mt"
      },
      "source": [
        "X = data.drop(['satisfaction'], axis=1)\n",
        "y = data['satisfaction']"
      ],
      "execution_count": null,
      "outputs": []
    },
    {
      "cell_type": "code",
      "metadata": {
        "id": "hlN0tapnwoyc"
      },
      "source": [
        "X_train, X_test, y_train, y_test = train_test_split(X, y, test_size=0.3, random_state=42)"
      ],
      "execution_count": null,
      "outputs": []
    },
    {
      "cell_type": "code",
      "metadata": {
        "colab": {
          "base_uri": "https://localhost:8080/"
        },
        "id": "WR3rmQrKxI0F",
        "outputId": "b99665a5-cdb0-4bec-f7fc-9fc13c4b6af0"
      },
      "source": [
        "X_train.isna().sum()"
      ],
      "execution_count": null,
      "outputs": [
        {
          "data": {
            "text/plain": [
              "Customer Type                          0\n",
              "Flight Distance                        0\n",
              "Inflight wifi service                  0\n",
              "Departure/Arrival time convenient      0\n",
              "Ease of Online booking                 0\n",
              "Gate location                          0\n",
              "Food and drink                         0\n",
              "Online boarding                        0\n",
              "Seat comfort                           0\n",
              "Inflight entertainment                 0\n",
              "On-board service                       0\n",
              "Leg room service                       0\n",
              "Baggage handling                       0\n",
              "Checkin service                        0\n",
              "Inflight service                       0\n",
              "Cleanliness                            0\n",
              "Departure Delay in Minutes             0\n",
              "Arrival Delay in Minutes             204\n",
              "Business                               0\n",
              "Eco                                    0\n",
              "Eco Plus                               0\n",
              "dtype: int64"
            ]
          },
          "execution_count": 25,
          "metadata": {},
          "output_type": "execute_result"
        }
      ]
    },
    {
      "cell_type": "code",
      "metadata": {
        "colab": {
          "base_uri": "https://localhost:8080/"
        },
        "id": "F5LZnUnl5r20",
        "outputId": "47cccfaf-b17d-4423-e2fe-50066e8bafbd"
      },
      "source": [
        "X_test.isna().sum()"
      ],
      "execution_count": null,
      "outputs": [
        {
          "data": {
            "text/plain": [
              "Customer Type                         0\n",
              "Flight Distance                       0\n",
              "Inflight wifi service                 0\n",
              "Departure/Arrival time convenient     0\n",
              "Ease of Online booking                0\n",
              "Gate location                         0\n",
              "Food and drink                        0\n",
              "Online boarding                       0\n",
              "Seat comfort                          0\n",
              "Inflight entertainment                0\n",
              "On-board service                      0\n",
              "Leg room service                      0\n",
              "Baggage handling                      0\n",
              "Checkin service                       0\n",
              "Inflight service                      0\n",
              "Cleanliness                           0\n",
              "Departure Delay in Minutes            0\n",
              "Arrival Delay in Minutes             94\n",
              "Business                              0\n",
              "Eco                                   0\n",
              "Eco Plus                              0\n",
              "dtype: int64"
            ]
          },
          "execution_count": 26,
          "metadata": {},
          "output_type": "execute_result"
        }
      ]
    },
    {
      "cell_type": "markdown",
      "metadata": {
        "id": "WU2mDwKoSSql"
      },
      "source": [
        "## handle missing values"
      ]
    },
    {
      "cell_type": "code",
      "metadata": {
        "id": "ReS3b9wHRT6x"
      },
      "source": [
        "arr_delay_mean = X_train['Arrival Delay in Minutes'].mean()"
      ],
      "execution_count": null,
      "outputs": []
    },
    {
      "cell_type": "code",
      "metadata": {
        "id": "H1urxDxgRijJ"
      },
      "source": [
        "X_train['Arrival Delay in Minutes'].fillna(arr_delay_mean, inplace=True)\n",
        "X_test['Arrival Delay in Minutes'].fillna(arr_delay_mean, inplace=True)"
      ],
      "execution_count": null,
      "outputs": []
    },
    {
      "cell_type": "code",
      "metadata": {
        "colab": {
          "base_uri": "https://localhost:8080/"
        },
        "id": "ryXFSJ6gRv_-",
        "outputId": "af60ec7b-e881-4f20-d8fa-d4d1668c2727"
      },
      "source": [
        "X_train.isna().sum()"
      ],
      "execution_count": null,
      "outputs": [
        {
          "data": {
            "text/plain": [
              "Customer Type                        0\n",
              "Flight Distance                      0\n",
              "Inflight wifi service                0\n",
              "Departure/Arrival time convenient    0\n",
              "Ease of Online booking               0\n",
              "Gate location                        0\n",
              "Food and drink                       0\n",
              "Online boarding                      0\n",
              "Seat comfort                         0\n",
              "Inflight entertainment               0\n",
              "On-board service                     0\n",
              "Leg room service                     0\n",
              "Baggage handling                     0\n",
              "Checkin service                      0\n",
              "Inflight service                     0\n",
              "Cleanliness                          0\n",
              "Departure Delay in Minutes           0\n",
              "Arrival Delay in Minutes             0\n",
              "Business                             0\n",
              "Eco                                  0\n",
              "Eco Plus                             0\n",
              "dtype: int64"
            ]
          },
          "execution_count": 29,
          "metadata": {},
          "output_type": "execute_result"
        }
      ]
    },
    {
      "cell_type": "markdown",
      "metadata": {
        "id": "Fjc4sG5NEi_r"
      },
      "source": [
        "## Handling imbalanced data"
      ]
    },
    {
      "cell_type": "code",
      "metadata": {
        "colab": {
          "base_uri": "https://localhost:8080/"
        },
        "id": "UyEFarlGErrS",
        "outputId": "f247aa9a-a150-46d8-87ed-407cc905e9a1"
      },
      "source": [
        "y_train.value_counts()"
      ],
      "execution_count": null,
      "outputs": [
        {
          "data": {
            "text/plain": [
              "0    40644\n",
              "1    31250\n",
              "Name: satisfaction, dtype: int64"
            ]
          },
          "execution_count": 30,
          "metadata": {},
          "output_type": "execute_result"
        }
      ]
    },
    {
      "cell_type": "markdown",
      "metadata": {
        "id": "gAxTPDhZGgZv"
      },
      "source": [
        "BorderlineSMOTE"
      ]
    },
    {
      "cell_type": "code",
      "metadata": {
        "id": "rJJoFcDoE3IJ"
      },
      "source": [
        "from imblearn.over_sampling import BorderlineSMOTE\n",
        "oversample = BorderlineSMOTE()\n",
        "X_train_borsmote, y_train_borsmote = oversample.fit_resample(X_train, y_train)"
      ],
      "execution_count": null,
      "outputs": []
    },
    {
      "cell_type": "code",
      "metadata": {
        "colab": {
          "base_uri": "https://localhost:8080/"
        },
        "id": "_n8eYIhuGrK_",
        "outputId": "be35c275-62cb-4083-afcf-39ee1a57a89a"
      },
      "source": [
        "unique, counts = np.unique(y_train_borsmote, return_counts=True)\n",
        "dict(zip(unique, counts))"
      ],
      "execution_count": null,
      "outputs": [
        {
          "data": {
            "text/plain": [
              "{0: 40644, 1: 40644}"
            ]
          },
          "execution_count": 32,
          "metadata": {},
          "output_type": "execute_result"
        }
      ]
    },
    {
      "cell_type": "markdown",
      "metadata": {
        "id": "9-G9D3DDGlBy"
      },
      "source": [
        "ADASYN"
      ]
    },
    {
      "cell_type": "code",
      "metadata": {
        "id": "lQo0t0ooGy_0"
      },
      "source": [
        "from imblearn.over_sampling import ADASYN\n",
        "oversample_adasyn = ADASYN()\n",
        "X_train_adasyn, y_train_adasyn = oversample_adasyn.fit_resample(X_train, y_train)"
      ],
      "execution_count": null,
      "outputs": []
    },
    {
      "cell_type": "code",
      "metadata": {
        "colab": {
          "base_uri": "https://localhost:8080/"
        },
        "id": "SlqN8ljDHG0z",
        "outputId": "526ec4f2-6456-46c7-923e-4e3b98f2e7e4"
      },
      "source": [
        "unique, counts = np.unique(y_train_adasyn, return_counts=True)\n",
        "dict(zip(unique, counts))"
      ],
      "execution_count": null,
      "outputs": [
        {
          "data": {
            "text/plain": [
              "{0: 40644, 1: 40292}"
            ]
          },
          "execution_count": 34,
          "metadata": {},
          "output_type": "execute_result"
        }
      ]
    },
    {
      "cell_type": "markdown",
      "metadata": {
        "id": "NKxSfS1s8Xu0"
      },
      "source": [
        "# Stage 5 - Modelling"
      ]
    },
    {
      "cell_type": "markdown",
      "metadata": {
        "id": "2LP00eALDqsM"
      },
      "source": [
        "modelling"
      ]
    },
    {
      "cell_type": "markdown",
      "metadata": {
        "id": "wF12gM25bvvO"
      },
      "source": [
        "## Prepare library"
      ]
    },
    {
      "cell_type": "code",
      "metadata": {
        "colab": {
          "base_uri": "https://localhost:8080/"
        },
        "id": "vw6aWfZkuQC_",
        "outputId": "449973c5-d33c-4ea3-bcd3-326b5755d8dd"
      },
      "source": [
        "#Make Necessary Import\n",
        "import warnings\n",
        "warnings.filterwarnings('ignore')\n",
        "\n",
        "import numpy as np\n",
        "import pandas as pd\n",
        "import seaborn as sns\n",
        "import matplotlib.pyplot as plt\n",
        "%matplotlib inline\n",
        "from sklearn.preprocessing import MinMaxScaler, StandardScaler\n",
        "from imblearn import over_sampling\n",
        "\n",
        "sns.set(rc={'figure.figsize':(16,8)})\n",
        "sns.set_style('whitegrid')\n",
        "sns.color_palette('dark')\n",
        "plt.style.use('fivethirtyeight')\n",
        "\n",
        "from sklearn.metrics import accuracy_score, precision_score, recall_score, f1_score\n",
        "from sklearn.metrics import roc_curve, auc\n",
        "from sklearn.neighbors import KNeighborsClassifier\n",
        "from xgboost import XGBClassifier\n",
        "\n",
        "\n",
        "\n",
        "print('numpy version : ',np.__version__)\n",
        "print('pandas version : ',pd.__version__)\n",
        "print('seaborn version : ',sns.__version__)"
      ],
      "execution_count": null,
      "outputs": [
        {
          "name": "stdout",
          "output_type": "stream",
          "text": [
            "numpy version :  1.19.5\n",
            "pandas version :  1.1.5\n",
            "seaborn version :  0.11.2\n"
          ]
        }
      ]
    },
    {
      "cell_type": "code",
      "metadata": {
        "id": "cS2WRZLfugra"
      },
      "source": [
        "def eval_classification(model, pred, xtrain, ytrain, xtest, ytest):\n",
        "    print('Accuracy (Test Set): %.2f' % accuracy_score(y_test, pred))\n",
        "    print('Precision (Test Set): %.2f' % precision_score(y_test, pred))\n",
        "    print('Recall (Test Set): %.2f' % recall_score(y_test, pred))\n",
        "    print('F1-Score (Test Set): %.2f' % f1_score(y_test, pred))\n",
        "\n",
        "    fpr, tpr, thresholds = roc_curve(y_test, pred, pos_label=1) # pos_label: label yang kita anggap positive\n",
        "    print('AUC: %.2f' % auc(fpr, tpr))\n",
        "\n",
        "def show_feature_importance(model):\n",
        "    feat_importances = pd.Series(model.feature_importances_, index=X.columns)\n",
        "    ax = feat_importances.nlargest(25).plot(kind='barh', figsize=(10, 8))\n",
        "    ax.invert_yaxis()\n",
        "\n",
        "    plt.xlabel('score')\n",
        "    plt.ylabel('feature')\n",
        "    plt.title('feature importance score')\n",
        "\n",
        "def show_best_hyperparameter(model, hyperparameters):\n",
        "    for key, value in hyperparameters.items() :\n",
        "        print('Best '+key+':', model.get_params()[key])"
      ],
      "execution_count": null,
      "outputs": []
    },
    {
      "cell_type": "markdown",
      "metadata": {
        "id": "iG2SEKKQS_8A"
      },
      "source": [
        "## Train model - imbalanced"
      ]
    },
    {
      "cell_type": "code",
      "metadata": {
        "id": "sBLCOHgdR6LH"
      },
      "source": [
        "from sklearn.linear_model import LogisticRegression"
      ],
      "execution_count": null,
      "outputs": []
    },
    {
      "cell_type": "code",
      "metadata": {
        "colab": {
          "base_uri": "https://localhost:8080/"
        },
        "id": "VjbPUKyzTH60",
        "outputId": "ae2bf165-58b8-4767-940a-48385c9f8ed7"
      },
      "source": [
        "clf = LogisticRegression(random_state=42)\n",
        "clf.fit(X_train, y_train)"
      ],
      "execution_count": null,
      "outputs": [
        {
          "data": {
            "text/plain": [
              "LogisticRegression(random_state=42)"
            ]
          },
          "execution_count": 38,
          "metadata": {},
          "output_type": "execute_result"
        }
      ]
    },
    {
      "cell_type": "markdown",
      "metadata": {
        "id": "K6Eu6zBxTV17"
      },
      "source": [
        "## Evaluate model"
      ]
    },
    {
      "cell_type": "code",
      "metadata": {
        "id": "Sk1pgOtDW6jB"
      },
      "source": [
        "from sklearn import metrics"
      ],
      "execution_count": null,
      "outputs": []
    },
    {
      "cell_type": "code",
      "metadata": {
        "colab": {
          "base_uri": "https://localhost:8080/"
        },
        "id": "L7KkxriBTLkN",
        "outputId": "9bd9c44c-4019-4523-a1c3-1b9e94199a7e"
      },
      "source": [
        "y_pred = clf.predict(X_test)\n",
        "probs = clf.predict_proba(X_test)[:,1]\n",
        "\n",
        "print(y_pred)\n",
        "print(probs)"
      ],
      "execution_count": null,
      "outputs": [
        {
          "name": "stdout",
          "output_type": "stream",
          "text": [
            "[1 0 1 ... 0 0 0]\n",
            "[0.54497678 0.18649643 0.97639867 ... 0.39057044 0.22945527 0.43963527]\n"
          ]
        }
      ]
    },
    {
      "cell_type": "code",
      "metadata": {
        "colab": {
          "base_uri": "https://localhost:8080/"
        },
        "id": "6IHYOHO1Tdxx",
        "outputId": "88fa4da1-0fb9-4f9a-cab7-795f6982e3f9"
      },
      "source": [
        "fpr, tpr, thresholds = metrics.roc_curve(y_test, probs, pos_label=1)\n",
        "auc = metrics.auc(fpr, tpr)\n",
        "accuracy = metrics.accuracy_score(y_test, y_pred)\n",
        "precision = metrics.precision_score(y_test, y_pred)\n",
        "recall = metrics.recall_score(y_test, y_pred)\n",
        "f1_score = metrics.f1_score(y_test, y_pred)\n",
        "\n",
        "print('AUC: '+str(round(auc*100,2))+'%')\n",
        "print('accuracy: '+str(round(accuracy*100,2))+'%')\n",
        "print('precision: '+str(round(precision*100,2))+'%')\n",
        "print('recall: '+str(round(recall*100,2))+'%')\n",
        "print('f1_score: '+str(round(f1_score*100,2))+'%')"
      ],
      "execution_count": null,
      "outputs": [
        {
          "name": "stdout",
          "output_type": "stream",
          "text": [
            "AUC: 90.86%\n",
            "accuracy: 85.08%\n",
            "precision: 84.15%\n",
            "recall: 80.75%\n",
            "f1_score: 82.41%\n"
          ]
        }
      ]
    },
    {
      "cell_type": "markdown",
      "metadata": {
        "id": "ZCX3qYDqUqBs"
      },
      "source": [
        "Performance Log"
      ]
    },
    {
      "cell_type": "code",
      "metadata": {
        "colab": {
          "base_uri": "https://localhost:8080/",
          "height": 81
        },
        "id": "QXurcjyYTvhp",
        "outputId": "77edf105-da0b-49ad-f586-e12e3943bb92"
      },
      "source": [
        "performance_log = pd.DataFrame(columns=['experiment','AUC','Accuracy'])\n",
        "perf = {\n",
        "    'experiment': 'Logistic Regression',\n",
        "    'AUC': str(round(auc*100,2))+'%',\n",
        "    'Accuracy': str(round(accuracy*100,2))+'%',\n",
        "    'Precision': str(round(precision*100,2))+'%',\n",
        "    'Recall': str(round(recall*100,2))+'%',\n",
        "    'F1_Score': str(round(f1_score*100,2))+'%'\n",
        "}\n",
        "performance_log = performance_log.append(perf, ignore_index=True)\n",
        "performance_log"
      ],
      "execution_count": null,
      "outputs": [
        {
          "data": {
            "text/html": [
              "<div>\n",
              "<style scoped>\n",
              "    .dataframe tbody tr th:only-of-type {\n",
              "        vertical-align: middle;\n",
              "    }\n",
              "\n",
              "    .dataframe tbody tr th {\n",
              "        vertical-align: top;\n",
              "    }\n",
              "\n",
              "    .dataframe thead th {\n",
              "        text-align: right;\n",
              "    }\n",
              "</style>\n",
              "<table border=\"1\" class=\"dataframe\">\n",
              "  <thead>\n",
              "    <tr style=\"text-align: right;\">\n",
              "      <th></th>\n",
              "      <th>experiment</th>\n",
              "      <th>AUC</th>\n",
              "      <th>Accuracy</th>\n",
              "      <th>F1_Score</th>\n",
              "      <th>Precision</th>\n",
              "      <th>Recall</th>\n",
              "    </tr>\n",
              "  </thead>\n",
              "  <tbody>\n",
              "    <tr>\n",
              "      <th>0</th>\n",
              "      <td>Logistic Regression</td>\n",
              "      <td>90.86%</td>\n",
              "      <td>85.08%</td>\n",
              "      <td>82.41%</td>\n",
              "      <td>84.15%</td>\n",
              "      <td>80.75%</td>\n",
              "    </tr>\n",
              "  </tbody>\n",
              "</table>\n",
              "</div>"
            ],
            "text/plain": [
              "            experiment     AUC Accuracy F1_Score Precision  Recall\n",
              "0  Logistic Regression  90.86%   85.08%   82.41%    84.15%  80.75%"
            ]
          },
          "execution_count": 42,
          "metadata": {},
          "output_type": "execute_result"
        }
      ]
    },
    {
      "cell_type": "markdown",
      "metadata": {
        "id": "7OSkuexKNBfJ"
      },
      "source": [
        "## Train model - balanced"
      ]
    },
    {
      "cell_type": "code",
      "metadata": {
        "colab": {
          "base_uri": "https://localhost:8080/"
        },
        "id": "lD3HQstbNAYW",
        "outputId": "53c684ac-8621-4575-8d69-c866f0e7d28c"
      },
      "source": [
        "clf = LogisticRegression(random_state=42)\n",
        "clf.fit(X_train_borsmote, y_train_borsmote)"
      ],
      "execution_count": null,
      "outputs": [
        {
          "data": {
            "text/plain": [
              "LogisticRegression(random_state=42)"
            ]
          },
          "execution_count": 43,
          "metadata": {},
          "output_type": "execute_result"
        }
      ]
    },
    {
      "cell_type": "markdown",
      "metadata": {
        "id": "PCyJaOE0NXWC"
      },
      "source": [
        "## Evaluate model - balanced"
      ]
    },
    {
      "cell_type": "code",
      "metadata": {
        "colab": {
          "base_uri": "https://localhost:8080/"
        },
        "id": "VmLpfRLdNfnd",
        "outputId": "7b0e4530-9171-4fce-f405-6b228c4901f1"
      },
      "source": [
        "y_pred = clf.predict(X_test)\n",
        "probs = clf.predict_proba(X_test)[:,1]\n",
        "\n",
        "print(y_pred)\n",
        "print(probs)"
      ],
      "execution_count": null,
      "outputs": [
        {
          "name": "stdout",
          "output_type": "stream",
          "text": [
            "[1 0 1 ... 0 0 0]\n",
            "[0.69010716 0.29907145 0.96951554 ... 0.46636055 0.34040153 0.49615537]\n"
          ]
        }
      ]
    },
    {
      "cell_type": "code",
      "metadata": {
        "colab": {
          "base_uri": "https://localhost:8080/"
        },
        "id": "518oXzHPNZos",
        "outputId": "e9a84cec-87a5-4bba-bf7b-77f4ec0cf49d"
      },
      "source": [
        "fpr, tpr, thresholds = metrics.roc_curve(y_test, probs, pos_label=1)\n",
        "auc = metrics.auc(fpr, tpr)\n",
        "accuracy = metrics.accuracy_score(y_test, y_pred)\n",
        "precision = metrics.precision_score(y_test, y_pred)\n",
        "recall = metrics.recall_score(y_test, y_pred)\n",
        "f1_score = metrics.f1_score(y_test, y_pred)\n",
        "\n",
        "print('AUC: '+str(round(auc*100,2))+'%')\n",
        "print('accuracy: '+str(round(accuracy*100,2))+'%')\n",
        "print('precision: '+str(round(precision*100,2))+'%')\n",
        "print('recall: '+str(round(recall*100,2))+'%')\n",
        "print('f1_score: '+str(round(f1_score*100,2))+'%')"
      ],
      "execution_count": null,
      "outputs": [
        {
          "name": "stdout",
          "output_type": "stream",
          "text": [
            "AUC: 90.71%\n",
            "accuracy: 83.71%\n",
            "precision: 78.91%\n",
            "recall: 85.12%\n",
            "f1_score: 81.89%\n"
          ]
        }
      ]
    },
    {
      "cell_type": "code",
      "metadata": {
        "colab": {
          "base_uri": "https://localhost:8080/"
        },
        "id": "21sA_uWJOGtv",
        "outputId": "814e0e4b-5ae0-4b92-8a55-f078b43652cf"
      },
      "source": [
        "clf = LogisticRegression(random_state=42)\n",
        "clf.fit(X_train_adasyn, y_train_adasyn)"
      ],
      "execution_count": null,
      "outputs": [
        {
          "data": {
            "text/plain": [
              "LogisticRegression(random_state=42)"
            ]
          },
          "execution_count": 46,
          "metadata": {},
          "output_type": "execute_result"
        }
      ]
    },
    {
      "cell_type": "code",
      "metadata": {
        "colab": {
          "base_uri": "https://localhost:8080/"
        },
        "id": "wodL-UGtOYyC",
        "outputId": "30662dff-f86f-47dc-e12d-b84ee783a416"
      },
      "source": [
        "y_pred = clf.predict(X_test)\n",
        "probs = clf.predict_proba(X_test)[:,1]\n",
        "\n",
        "print(y_pred)\n",
        "print(probs)"
      ],
      "execution_count": null,
      "outputs": [
        {
          "name": "stdout",
          "output_type": "stream",
          "text": [
            "[1 0 1 ... 0 0 0]\n",
            "[0.70524295 0.3078569  0.96715151 ... 0.45528045 0.3473843  0.47295718]\n"
          ]
        }
      ]
    },
    {
      "cell_type": "code",
      "metadata": {
        "colab": {
          "base_uri": "https://localhost:8080/"
        },
        "id": "s_4Iwc20OcsJ",
        "outputId": "8db381b1-a9d7-4199-e389-286de92c4b03"
      },
      "source": [
        "fpr, tpr, thresholds = metrics.roc_curve(y_test, probs, pos_label=1)\n",
        "auc = metrics.auc(fpr, tpr)\n",
        "accuracy = metrics.accuracy_score(y_test, y_pred)\n",
        "precision = metrics.precision_score(y_test, y_pred)\n",
        "recall = metrics.recall_score(y_test, y_pred)\n",
        "f1_score = metrics.f1_score(y_test, y_pred)\n",
        "\n",
        "print('AUC: '+str(round(auc*100,2))+'%')\n",
        "print('accuracy: '+str(round(accuracy*100,2))+'%')\n",
        "print('precision: '+str(round(precision*100,2))+'%')\n",
        "print('recall: '+str(round(recall*100,2))+'%')\n",
        "print('f1_score: '+str(round(f1_score*100,2))+'%')"
      ],
      "execution_count": null,
      "outputs": [
        {
          "name": "stdout",
          "output_type": "stream",
          "text": [
            "AUC: 90.81%\n",
            "accuracy: 84.03%\n",
            "precision: 79.46%\n",
            "recall: 85.09%\n",
            "f1_score: 82.18%\n"
          ]
        }
      ]
    },
    {
      "cell_type": "markdown",
      "metadata": {
        "id": "-5XD0qsrVXXI"
      },
      "source": [
        "## Modelling experiment"
      ]
    },
    {
      "cell_type": "code",
      "metadata": {
        "id": "SVi-8s6mV6dq"
      },
      "source": [
        "from sklearn.linear_model import LogisticRegression\n",
        "from sklearn.tree import DecisionTreeClassifier\n",
        "from xgboost import XGBClassifier\n",
        "from sklearn import metrics"
      ],
      "execution_count": null,
      "outputs": []
    },
    {
      "cell_type": "code",
      "metadata": {
        "id": "koysGb9KJFkQ"
      },
      "source": [
        "performance_log = pd.DataFrame(columns=['experiment','AUC','Accuracy'])"
      ],
      "execution_count": null,
      "outputs": []
    },
    {
      "cell_type": "markdown",
      "metadata": {
        "id": "hC-Sg6lMOdLQ"
      },
      "source": [
        "Modelling without balancing data"
      ]
    },
    {
      "cell_type": "code",
      "metadata": {
        "id": "37MXq3vjVbG2"
      },
      "source": [
        "models = {\n",
        "    'Logistic Regression': LogisticRegression(random_state=42),\n",
        "    'Decision Tree': DecisionTreeClassifier(),\n",
        "    'Xgboost': XGBClassifier(eval_metric='logloss')\n",
        "}\n",
        "\n",
        "for model_name, clf in models.items():\n",
        "    clf.fit(X_train, y_train)\n",
        "    y_pred = clf.predict(X_test)\n",
        "    probs = clf.predict_proba(X_test)[:,1]\n",
        "\n",
        "    fpr, tpr, thresholds = metrics.roc_curve(y_test, probs, pos_label=1)\n",
        "    auc = metrics.auc(fpr, tpr)\n",
        "    accuracy = metrics.accuracy_score(y_test, y_pred)\n",
        "    precision = metrics.precision_score(y_test, y_pred)\n",
        "    recall = metrics.recall_score(y_test, y_pred)\n",
        "    f1_score = metrics.f1_score(y_test, y_pred)\n",
        "\n",
        "    perf = {\n",
        "    'experiment': model_name,\n",
        "    'AUC': str(round(auc*100,2))+'%',\n",
        "    'Accuracy': str(round(accuracy*100,2))+'%',\n",
        "    'Precision': str(round(precision*100,2))+'%',\n",
        "    'Recall': str(round(recall*100,2))+'%',\n",
        "    'F1_Score': str(round(f1_score*100,2))+'%'\n",
        "    }\n",
        "\n",
        "    performance_log = performance_log.append(perf, ignore_index=True)"
      ],
      "execution_count": null,
      "outputs": []
    },
    {
      "cell_type": "code",
      "metadata": {
        "colab": {
          "base_uri": "https://localhost:8080/",
          "height": 143
        },
        "id": "1ysGTf1MOWaI",
        "outputId": "ac190a47-ec4b-416b-d3c4-f53fcaa3cb39"
      },
      "source": [
        "performance_log"
      ],
      "execution_count": null,
      "outputs": [
        {
          "data": {
            "text/html": [
              "<div>\n",
              "<style scoped>\n",
              "    .dataframe tbody tr th:only-of-type {\n",
              "        vertical-align: middle;\n",
              "    }\n",
              "\n",
              "    .dataframe tbody tr th {\n",
              "        vertical-align: top;\n",
              "    }\n",
              "\n",
              "    .dataframe thead th {\n",
              "        text-align: right;\n",
              "    }\n",
              "</style>\n",
              "<table border=\"1\" class=\"dataframe\">\n",
              "  <thead>\n",
              "    <tr style=\"text-align: right;\">\n",
              "      <th></th>\n",
              "      <th>experiment</th>\n",
              "      <th>AUC</th>\n",
              "      <th>Accuracy</th>\n",
              "      <th>F1_Score</th>\n",
              "      <th>Precision</th>\n",
              "      <th>Recall</th>\n",
              "    </tr>\n",
              "  </thead>\n",
              "  <tbody>\n",
              "    <tr>\n",
              "      <th>0</th>\n",
              "      <td>Logistic Regression</td>\n",
              "      <td>90.86%</td>\n",
              "      <td>85.08%</td>\n",
              "      <td>82.41%</td>\n",
              "      <td>84.15%</td>\n",
              "      <td>80.75%</td>\n",
              "    </tr>\n",
              "    <tr>\n",
              "      <th>1</th>\n",
              "      <td>Decision Tree</td>\n",
              "      <td>92.83%</td>\n",
              "      <td>92.88%</td>\n",
              "      <td>91.83%</td>\n",
              "      <td>91.27%</td>\n",
              "      <td>92.39%</td>\n",
              "    </tr>\n",
              "    <tr>\n",
              "      <th>2</th>\n",
              "      <td>Xgboost</td>\n",
              "      <td>97.97%</td>\n",
              "      <td>92.68%</td>\n",
              "      <td>91.38%</td>\n",
              "      <td>93.24%</td>\n",
              "      <td>89.6%</td>\n",
              "    </tr>\n",
              "  </tbody>\n",
              "</table>\n",
              "</div>"
            ],
            "text/plain": [
              "            experiment     AUC Accuracy F1_Score Precision  Recall\n",
              "0  Logistic Regression  90.86%   85.08%   82.41%    84.15%  80.75%\n",
              "1        Decision Tree  92.83%   92.88%   91.83%    91.27%  92.39%\n",
              "2              Xgboost  97.97%   92.68%   91.38%    93.24%   89.6%"
            ]
          },
          "execution_count": 52,
          "metadata": {},
          "output_type": "execute_result"
        }
      ]
    },
    {
      "cell_type": "markdown",
      "metadata": {
        "id": "9-Qisi56Og6L"
      },
      "source": [
        "##Modelling with balancing data"
      ]
    },
    {
      "cell_type": "markdown",
      "metadata": {
        "id": "Uct05u0pOx07"
      },
      "source": [
        "BorderlineSMOTE"
      ]
    },
    {
      "cell_type": "code",
      "metadata": {
        "id": "ZuyeiLYdOjKA"
      },
      "source": [
        "models = {\n",
        "    'Logistic Regression - BorSMOTE': LogisticRegression(random_state=42),\n",
        "    'Decision Tree - BorSMOTE': DecisionTreeClassifier(),\n",
        "    'Xgboost - BorSMOTE': XGBClassifier(eval_metric='logloss')\n",
        "}\n",
        "\n",
        "for model_name, clf in models.items():\n",
        "    clf.fit(X_train_borsmote, y_train_borsmote)\n",
        "    y_pred = clf.predict(X_test)\n",
        "    probs = clf.predict_proba(X_test)[:,1]\n",
        "\n",
        "    fpr, tpr, thresholds = metrics.roc_curve(y_test, probs, pos_label=1)\n",
        "    auc = metrics.auc(fpr, tpr)\n",
        "    accuracy = metrics.accuracy_score(y_test, y_pred)\n",
        "    precision = metrics.precision_score(y_test, y_pred)\n",
        "    recall = metrics.recall_score(y_test, y_pred)\n",
        "    f1_score = metrics.f1_score(y_test, y_pred)\n",
        "\n",
        "    perf = {\n",
        "    'experiment': model_name,\n",
        "    'AUC': str(round(auc*100,2))+'%',\n",
        "    'Accuracy': str(round(accuracy*100,2))+'%',\n",
        "    'Precision': str(round(precision*100,2))+'%',\n",
        "    'Recall': str(round(recall*100,2))+'%',\n",
        "    'F1_Score': str(round(f1_score*100,2))+'%'\n",
        "    }\n",
        "\n",
        "    performance_log = performance_log.append(perf, ignore_index=True)"
      ],
      "execution_count": null,
      "outputs": []
    },
    {
      "cell_type": "code",
      "metadata": {
        "colab": {
          "base_uri": "https://localhost:8080/",
          "height": 238
        },
        "id": "1yB6hDEfPCpS",
        "outputId": "3b9b568d-a0b5-4985-be7c-db54a83edc63"
      },
      "source": [
        "performance_log"
      ],
      "execution_count": null,
      "outputs": [
        {
          "data": {
            "text/html": [
              "<div>\n",
              "<style scoped>\n",
              "    .dataframe tbody tr th:only-of-type {\n",
              "        vertical-align: middle;\n",
              "    }\n",
              "\n",
              "    .dataframe tbody tr th {\n",
              "        vertical-align: top;\n",
              "    }\n",
              "\n",
              "    .dataframe thead th {\n",
              "        text-align: right;\n",
              "    }\n",
              "</style>\n",
              "<table border=\"1\" class=\"dataframe\">\n",
              "  <thead>\n",
              "    <tr style=\"text-align: right;\">\n",
              "      <th></th>\n",
              "      <th>experiment</th>\n",
              "      <th>AUC</th>\n",
              "      <th>Accuracy</th>\n",
              "      <th>F1_Score</th>\n",
              "      <th>Precision</th>\n",
              "      <th>Recall</th>\n",
              "    </tr>\n",
              "  </thead>\n",
              "  <tbody>\n",
              "    <tr>\n",
              "      <th>0</th>\n",
              "      <td>Logistic Regression</td>\n",
              "      <td>90.86%</td>\n",
              "      <td>85.08%</td>\n",
              "      <td>82.41%</td>\n",
              "      <td>84.15%</td>\n",
              "      <td>80.75%</td>\n",
              "    </tr>\n",
              "    <tr>\n",
              "      <th>1</th>\n",
              "      <td>Decision Tree</td>\n",
              "      <td>92.83%</td>\n",
              "      <td>92.88%</td>\n",
              "      <td>91.83%</td>\n",
              "      <td>91.27%</td>\n",
              "      <td>92.39%</td>\n",
              "    </tr>\n",
              "    <tr>\n",
              "      <th>2</th>\n",
              "      <td>Xgboost</td>\n",
              "      <td>97.97%</td>\n",
              "      <td>92.68%</td>\n",
              "      <td>91.38%</td>\n",
              "      <td>93.24%</td>\n",
              "      <td>89.6%</td>\n",
              "    </tr>\n",
              "    <tr>\n",
              "      <th>3</th>\n",
              "      <td>Logistic Regression - BorSMOTE</td>\n",
              "      <td>90.71%</td>\n",
              "      <td>83.71%</td>\n",
              "      <td>81.89%</td>\n",
              "      <td>78.91%</td>\n",
              "      <td>85.12%</td>\n",
              "    </tr>\n",
              "    <tr>\n",
              "      <th>4</th>\n",
              "      <td>Decision Tree - BorSMOTE</td>\n",
              "      <td>92.4%</td>\n",
              "      <td>92.4%</td>\n",
              "      <td>91.32%</td>\n",
              "      <td>90.3%</td>\n",
              "      <td>92.38%</td>\n",
              "    </tr>\n",
              "    <tr>\n",
              "      <th>5</th>\n",
              "      <td>Xgboost - BorSMOTE</td>\n",
              "      <td>97.82%</td>\n",
              "      <td>91.88%</td>\n",
              "      <td>90.96%</td>\n",
              "      <td>87.86%</td>\n",
              "      <td>94.28%</td>\n",
              "    </tr>\n",
              "  </tbody>\n",
              "</table>\n",
              "</div>"
            ],
            "text/plain": [
              "                       experiment     AUC Accuracy F1_Score Precision  Recall\n",
              "0             Logistic Regression  90.86%   85.08%   82.41%    84.15%  80.75%\n",
              "1                   Decision Tree  92.83%   92.88%   91.83%    91.27%  92.39%\n",
              "2                         Xgboost  97.97%   92.68%   91.38%    93.24%   89.6%\n",
              "3  Logistic Regression - BorSMOTE  90.71%   83.71%   81.89%    78.91%  85.12%\n",
              "4        Decision Tree - BorSMOTE   92.4%    92.4%   91.32%     90.3%  92.38%\n",
              "5              Xgboost - BorSMOTE  97.82%   91.88%   90.96%    87.86%  94.28%"
            ]
          },
          "execution_count": 54,
          "metadata": {},
          "output_type": "execute_result"
        }
      ]
    },
    {
      "cell_type": "markdown",
      "metadata": {
        "id": "tGCp6uQqPKSO"
      },
      "source": [
        "ADASYN"
      ]
    },
    {
      "cell_type": "code",
      "metadata": {
        "id": "p-cQq3AgPN7R"
      },
      "source": [
        "models = {\n",
        "    'Logistic Regression - ADASYN': LogisticRegression(random_state=42),\n",
        "    'Decision Tree - ADASYN': DecisionTreeClassifier(),\n",
        "    'Xgboost - ADASYN': XGBClassifier(eval_metric='logloss')\n",
        "}\n",
        "\n",
        "for model_name, clf in models.items():\n",
        "    clf.fit(X_train_adasyn, y_train_adasyn)\n",
        "    y_pred = clf.predict(X_test)\n",
        "    probs = clf.predict_proba(X_test)[:,1]\n",
        "\n",
        "    fpr, tpr, thresholds = metrics.roc_curve(y_test, probs, pos_label=1)\n",
        "    auc = metrics.auc(fpr, tpr)\n",
        "    accuracy = metrics.accuracy_score(y_test, y_pred)\n",
        "    precision = metrics.precision_score(y_test, y_pred)\n",
        "    recall = metrics.recall_score(y_test, y_pred)\n",
        "    f1_score = metrics.f1_score(y_test, y_pred)\n",
        "\n",
        "    perf = {\n",
        "    'experiment': model_name,\n",
        "    'AUC': str(round(auc*100,2))+'%',\n",
        "    'Accuracy': str(round(accuracy*100,2))+'%',\n",
        "    'Precision': str(round(precision*100,2))+'%',\n",
        "    'Recall': str(round(recall*100,2))+'%',\n",
        "    'F1_Score': str(round(f1_score*100,2))+'%'\n",
        "    }\n",
        "\n",
        "    performance_log = performance_log.append(perf, ignore_index=True)"
      ],
      "execution_count": null,
      "outputs": []
    },
    {
      "cell_type": "code",
      "metadata": {
        "colab": {
          "base_uri": "https://localhost:8080/",
          "height": 332
        },
        "id": "1Si0pVGtPa05",
        "outputId": "e756717a-d315-41e3-c4ab-3d2ce8b155aa"
      },
      "source": [
        "performance_log"
      ],
      "execution_count": null,
      "outputs": [
        {
          "data": {
            "text/html": [
              "<div>\n",
              "<style scoped>\n",
              "    .dataframe tbody tr th:only-of-type {\n",
              "        vertical-align: middle;\n",
              "    }\n",
              "\n",
              "    .dataframe tbody tr th {\n",
              "        vertical-align: top;\n",
              "    }\n",
              "\n",
              "    .dataframe thead th {\n",
              "        text-align: right;\n",
              "    }\n",
              "</style>\n",
              "<table border=\"1\" class=\"dataframe\">\n",
              "  <thead>\n",
              "    <tr style=\"text-align: right;\">\n",
              "      <th></th>\n",
              "      <th>experiment</th>\n",
              "      <th>AUC</th>\n",
              "      <th>Accuracy</th>\n",
              "      <th>F1_Score</th>\n",
              "      <th>Precision</th>\n",
              "      <th>Recall</th>\n",
              "    </tr>\n",
              "  </thead>\n",
              "  <tbody>\n",
              "    <tr>\n",
              "      <th>0</th>\n",
              "      <td>Logistic Regression</td>\n",
              "      <td>90.86%</td>\n",
              "      <td>85.08%</td>\n",
              "      <td>82.41%</td>\n",
              "      <td>84.15%</td>\n",
              "      <td>80.75%</td>\n",
              "    </tr>\n",
              "    <tr>\n",
              "      <th>1</th>\n",
              "      <td>Decision Tree</td>\n",
              "      <td>92.83%</td>\n",
              "      <td>92.88%</td>\n",
              "      <td>91.83%</td>\n",
              "      <td>91.27%</td>\n",
              "      <td>92.39%</td>\n",
              "    </tr>\n",
              "    <tr>\n",
              "      <th>2</th>\n",
              "      <td>Xgboost</td>\n",
              "      <td>97.97%</td>\n",
              "      <td>92.68%</td>\n",
              "      <td>91.38%</td>\n",
              "      <td>93.24%</td>\n",
              "      <td>89.6%</td>\n",
              "    </tr>\n",
              "    <tr>\n",
              "      <th>3</th>\n",
              "      <td>Logistic Regression - BorSMOTE</td>\n",
              "      <td>90.71%</td>\n",
              "      <td>83.71%</td>\n",
              "      <td>81.89%</td>\n",
              "      <td>78.91%</td>\n",
              "      <td>85.12%</td>\n",
              "    </tr>\n",
              "    <tr>\n",
              "      <th>4</th>\n",
              "      <td>Decision Tree - BorSMOTE</td>\n",
              "      <td>92.4%</td>\n",
              "      <td>92.4%</td>\n",
              "      <td>91.32%</td>\n",
              "      <td>90.3%</td>\n",
              "      <td>92.38%</td>\n",
              "    </tr>\n",
              "    <tr>\n",
              "      <th>5</th>\n",
              "      <td>Xgboost - BorSMOTE</td>\n",
              "      <td>97.82%</td>\n",
              "      <td>91.88%</td>\n",
              "      <td>90.96%</td>\n",
              "      <td>87.86%</td>\n",
              "      <td>94.28%</td>\n",
              "    </tr>\n",
              "    <tr>\n",
              "      <th>6</th>\n",
              "      <td>Logistic Regression - ADASYN</td>\n",
              "      <td>90.81%</td>\n",
              "      <td>84.03%</td>\n",
              "      <td>82.18%</td>\n",
              "      <td>79.46%</td>\n",
              "      <td>85.09%</td>\n",
              "    </tr>\n",
              "    <tr>\n",
              "      <th>7</th>\n",
              "      <td>Decision Tree - ADASYN</td>\n",
              "      <td>92.46%</td>\n",
              "      <td>92.49%</td>\n",
              "      <td>91.4%</td>\n",
              "      <td>90.59%</td>\n",
              "      <td>92.22%</td>\n",
              "    </tr>\n",
              "    <tr>\n",
              "      <th>8</th>\n",
              "      <td>Xgboost - ADASYN</td>\n",
              "      <td>97.76%</td>\n",
              "      <td>91.84%</td>\n",
              "      <td>90.88%</td>\n",
              "      <td>88.06%</td>\n",
              "      <td>93.88%</td>\n",
              "    </tr>\n",
              "  </tbody>\n",
              "</table>\n",
              "</div>"
            ],
            "text/plain": [
              "                       experiment     AUC Accuracy F1_Score Precision  Recall\n",
              "0             Logistic Regression  90.86%   85.08%   82.41%    84.15%  80.75%\n",
              "1                   Decision Tree  92.83%   92.88%   91.83%    91.27%  92.39%\n",
              "2                         Xgboost  97.97%   92.68%   91.38%    93.24%   89.6%\n",
              "3  Logistic Regression - BorSMOTE  90.71%   83.71%   81.89%    78.91%  85.12%\n",
              "4        Decision Tree - BorSMOTE   92.4%    92.4%   91.32%     90.3%  92.38%\n",
              "5              Xgboost - BorSMOTE  97.82%   91.88%   90.96%    87.86%  94.28%\n",
              "6    Logistic Regression - ADASYN  90.81%   84.03%   82.18%    79.46%  85.09%\n",
              "7          Decision Tree - ADASYN  92.46%   92.49%    91.4%    90.59%  92.22%\n",
              "8                Xgboost - ADASYN  97.76%   91.84%   90.88%    88.06%  93.88%"
            ]
          },
          "execution_count": 56,
          "metadata": {},
          "output_type": "execute_result"
        }
      ]
    },
    {
      "cell_type": "markdown",
      "metadata": {
        "id": "B3ZTfMfIXeSD"
      },
      "source": [
        "After we finding out that XGBoost has the highest recall and AUC score, we try to use random_state=42 and run the XGBoost once more to see whether the XGBoost performance will stay the same or not after applying random state"
      ]
    },
    {
      "cell_type": "code",
      "metadata": {
        "colab": {
          "base_uri": "https://localhost:8080/"
        },
        "id": "4TTk3O5LWDx3",
        "outputId": "316092d6-4bed-47ed-818f-b08568c08f9f"
      },
      "source": [
        "clf = XGBClassifier(random_state=42, eval_metric='logloss')\n",
        "clf.fit(X_train, y_train)\n",
        "\n",
        "y_pred = clf.predict(X_test)\n",
        "probs = clf.predict_proba(X_test)[:,1]\n",
        "\n",
        "print('Model with Random State : 42')\n",
        "\n",
        "fpr, tpr, thresholds = metrics.roc_curve(y_test, probs, pos_label=1)\n",
        "auc = metrics.auc(fpr, tpr)\n",
        "print('AUC: '+str(round(auc*100,2))+'%')\n",
        "\n",
        "accuracy = metrics.accuracy_score(y_test, y_pred)\n",
        "print('accuracy: '+str(round(accuracy*100,2))+'%')\n",
        "\n",
        "precision = metrics.precision_score(y_test, y_pred)\n",
        "print('precision: '+str(round(precision*100,2))+'%')\n",
        "\n",
        "recall = metrics.recall_score(y_test, y_pred)\n",
        "print('recall: '+str(round(recall*100,2))+'%')\n",
        "\n",
        "f1_score = metrics.f1_score(y_test, y_pred)\n",
        "print('f1_score: '+str(round(f1_score*100,2))+'%')"
      ],
      "execution_count": null,
      "outputs": [
        {
          "name": "stdout",
          "output_type": "stream",
          "text": [
            "Model with Random State : 42\n",
            "AUC: 97.97%\n",
            "accuracy: 92.68%\n",
            "precision: 93.24%\n",
            "recall: 89.6%\n",
            "f1_score: 91.38%\n"
          ]
        }
      ]
    },
    {
      "cell_type": "code",
      "metadata": {
        "id": "bJNUuJU1XlDs"
      },
      "source": [
        "# perf = {\n",
        "#     'experiment': 'Xgboost',\n",
        "#     'AUC': str(round(auc*100,2))+'%',\n",
        "#     'Accuracy': str(round(accuracy*100,2))+'%',\n",
        "#     'Precision': str(round(precision*100,2))+'%',\n",
        "#     'Recall': str(round(recall*100,2))+'%',\n",
        "#     'F1_Score': str(round(f1_score*100,2))+'%'\n",
        "# }\n",
        "# performance_log = performance_log.append(perf, ignore_index=True)\n",
        "# performance_log"
      ],
      "execution_count": null,
      "outputs": []
    },
    {
      "cell_type": "markdown",
      "metadata": {
        "id": "kYLrY7gQYMXj"
      },
      "source": [
        "Hyperparameter on XGBoost"
      ]
    },
    {
      "cell_type": "code",
      "metadata": {
        "id": "mhb5ilbFYC-D"
      },
      "source": [
        "from sklearn.model_selection import RandomizedSearchCV, GridSearchCV\n",
        "import numpy as np"
      ],
      "execution_count": null,
      "outputs": []
    },
    {
      "cell_type": "code",
      "metadata": {
        "id": "Up_tMFF6cXP2"
      },
      "source": [
        "#List of Hyper-parameters will be tested\n",
        "hyperparameters = {\n",
        "                    'max_depth' : [int(x) for x in np.linspace(10, 110, num = 11)],\n",
        "                    'min_child_weight' : [int(x) for x in np.linspace(1, 20, num = 11)],\n",
        "                    'gamma' : [float(x) for x in np.linspace(0, 1, num = 11)],\n",
        "                    'tree_method' : ['auto', 'exact', 'approx', 'hist'],\n",
        "\n",
        "                    'colsample_bytree' : [float(x) for x in np.linspace(0, 1, num = 11)],\n",
        "                    'eta' : [float(x) for x in np.linspace(0, 1, num = 100)],\n",
        "\n",
        "                    'lambda' : [float(x) for x in np.linspace(0, 1, num = 11)],\n",
        "                    'alpha' : [float(x) for x in np.linspace(0, 1, num = 11)]\n",
        "                    }"
      ],
      "execution_count": null,
      "outputs": []
    },
    {
      "cell_type": "code",
      "metadata": {
        "colab": {
          "base_uri": "https://localhost:8080/"
        },
        "id": "kNCzGfy9cZNs",
        "outputId": "58b7442b-0eb4-4c17-a2b8-22c479433e58"
      },
      "source": [
        "hyperparameters"
      ],
      "execution_count": null,
      "outputs": [
        {
          "data": {
            "text/plain": [
              "{'alpha': [0.0,\n",
              "  0.1,\n",
              "  0.2,\n",
              "  0.30000000000000004,\n",
              "  0.4,\n",
              "  0.5,\n",
              "  0.6000000000000001,\n",
              "  0.7000000000000001,\n",
              "  0.8,\n",
              "  0.9,\n",
              "  1.0],\n",
              " 'colsample_bytree': [0.0,\n",
              "  0.1,\n",
              "  0.2,\n",
              "  0.30000000000000004,\n",
              "  0.4,\n",
              "  0.5,\n",
              "  0.6000000000000001,\n",
              "  0.7000000000000001,\n",
              "  0.8,\n",
              "  0.9,\n",
              "  1.0],\n",
              " 'eta': [0.0,\n",
              "  0.010101010101010102,\n",
              "  0.020202020202020204,\n",
              "  0.030303030303030304,\n",
              "  0.04040404040404041,\n",
              "  0.05050505050505051,\n",
              "  0.06060606060606061,\n",
              "  0.07070707070707072,\n",
              "  0.08080808080808081,\n",
              "  0.09090909090909091,\n",
              "  0.10101010101010102,\n",
              "  0.11111111111111112,\n",
              "  0.12121212121212122,\n",
              "  0.13131313131313133,\n",
              "  0.14141414141414144,\n",
              "  0.15151515151515152,\n",
              "  0.16161616161616163,\n",
              "  0.17171717171717174,\n",
              "  0.18181818181818182,\n",
              "  0.19191919191919193,\n",
              "  0.20202020202020204,\n",
              "  0.21212121212121213,\n",
              "  0.22222222222222224,\n",
              "  0.23232323232323235,\n",
              "  0.24242424242424243,\n",
              "  0.25252525252525254,\n",
              "  0.26262626262626265,\n",
              "  0.27272727272727276,\n",
              "  0.2828282828282829,\n",
              "  0.29292929292929293,\n",
              "  0.30303030303030304,\n",
              "  0.31313131313131315,\n",
              "  0.32323232323232326,\n",
              "  0.33333333333333337,\n",
              "  0.3434343434343435,\n",
              "  0.3535353535353536,\n",
              "  0.36363636363636365,\n",
              "  0.37373737373737376,\n",
              "  0.38383838383838387,\n",
              "  0.393939393939394,\n",
              "  0.4040404040404041,\n",
              "  0.4141414141414142,\n",
              "  0.42424242424242425,\n",
              "  0.43434343434343436,\n",
              "  0.4444444444444445,\n",
              "  0.4545454545454546,\n",
              "  0.4646464646464647,\n",
              "  0.4747474747474748,\n",
              "  0.48484848484848486,\n",
              "  0.494949494949495,\n",
              "  0.5050505050505051,\n",
              "  0.5151515151515152,\n",
              "  0.5252525252525253,\n",
              "  0.5353535353535354,\n",
              "  0.5454545454545455,\n",
              "  0.5555555555555556,\n",
              "  0.5656565656565657,\n",
              "  0.5757575757575758,\n",
              "  0.5858585858585859,\n",
              "  0.595959595959596,\n",
              "  0.6060606060606061,\n",
              "  0.6161616161616162,\n",
              "  0.6262626262626263,\n",
              "  0.6363636363636365,\n",
              "  0.6464646464646465,\n",
              "  0.6565656565656566,\n",
              "  0.6666666666666667,\n",
              "  0.6767676767676768,\n",
              "  0.686868686868687,\n",
              "  0.696969696969697,\n",
              "  0.7070707070707072,\n",
              "  0.7171717171717172,\n",
              "  0.7272727272727273,\n",
              "  0.7373737373737375,\n",
              "  0.7474747474747475,\n",
              "  0.7575757575757577,\n",
              "  0.7676767676767677,\n",
              "  0.7777777777777778,\n",
              "  0.787878787878788,\n",
              "  0.797979797979798,\n",
              "  0.8080808080808082,\n",
              "  0.8181818181818182,\n",
              "  0.8282828282828284,\n",
              "  0.8383838383838385,\n",
              "  0.8484848484848485,\n",
              "  0.8585858585858587,\n",
              "  0.8686868686868687,\n",
              "  0.8787878787878789,\n",
              "  0.888888888888889,\n",
              "  0.8989898989898991,\n",
              "  0.9090909090909092,\n",
              "  0.9191919191919192,\n",
              "  0.9292929292929294,\n",
              "  0.9393939393939394,\n",
              "  0.9494949494949496,\n",
              "  0.9595959595959597,\n",
              "  0.9696969696969697,\n",
              "  0.9797979797979799,\n",
              "  0.98989898989899,\n",
              "  1.0],\n",
              " 'gamma': [0.0,\n",
              "  0.1,\n",
              "  0.2,\n",
              "  0.30000000000000004,\n",
              "  0.4,\n",
              "  0.5,\n",
              "  0.6000000000000001,\n",
              "  0.7000000000000001,\n",
              "  0.8,\n",
              "  0.9,\n",
              "  1.0],\n",
              " 'lambda': [0.0,\n",
              "  0.1,\n",
              "  0.2,\n",
              "  0.30000000000000004,\n",
              "  0.4,\n",
              "  0.5,\n",
              "  0.6000000000000001,\n",
              "  0.7000000000000001,\n",
              "  0.8,\n",
              "  0.9,\n",
              "  1.0],\n",
              " 'max_depth': [10, 20, 30, 40, 50, 60, 70, 80, 90, 100, 110],\n",
              " 'min_child_weight': [1, 2, 4, 6, 8, 10, 12, 14, 16, 18, 20],\n",
              " 'tree_method': ['auto', 'exact', 'approx', 'hist']}"
            ]
          },
          "execution_count": 61,
          "metadata": {},
          "output_type": "execute_result"
        }
      ]
    },
    {
      "cell_type": "code",
      "metadata": {
        "colab": {
          "background_save": true
        },
        "id": "GRdlFy9Cckp_",
        "outputId": "74b1797e-4e24-441e-805d-35da32a1fae8"
      },
      "source": [
        "# Init\n",
        "clf = XGBClassifier(random_state=42, eval_metric='logloss')\n",
        "clf_tuned = RandomizedSearchCV(clf, hyperparameters, cv=3, random_state=42, scoring='f1')\n",
        "clf_tuned.fit(X_train,y_train)"
      ],
      "execution_count": null,
      "outputs": [
        {
          "data": {
            "text/plain": [
              "RandomizedSearchCV(cv=3,\n",
              "                   estimator=XGBClassifier(eval_metric='logloss',\n",
              "                                           random_state=42),\n",
              "                   param_distributions={'alpha': [0.0, 0.1, 0.2,\n",
              "                                                  0.30000000000000004, 0.4, 0.5,\n",
              "                                                  0.6000000000000001,\n",
              "                                                  0.7000000000000001, 0.8, 0.9,\n",
              "                                                  1.0],\n",
              "                                        'colsample_bytree': [0.0, 0.1, 0.2,\n",
              "                                                             0.30000000000000004,\n",
              "                                                             0.4, 0.5,\n",
              "                                                             0.6000000000000001,\n",
              "                                                             0.7000000000000001,\n",
              "                                                             0.8, 0.9, 1.0],\n",
              "                                        'eta': [0.0, 0.010101010101010102...\n",
              "                                                  0.30000000000000004, 0.4, 0.5,\n",
              "                                                  0.6000000000000001,\n",
              "                                                  0.7000000000000001, 0.8, 0.9,\n",
              "                                                  1.0],\n",
              "                                        'lambda': [0.0, 0.1, 0.2,\n",
              "                                                   0.30000000000000004, 0.4,\n",
              "                                                   0.5, 0.6000000000000001,\n",
              "                                                   0.7000000000000001, 0.8, 0.9,\n",
              "                                                   1.0],\n",
              "                                        'max_depth': [10, 20, 30, 40, 50, 60,\n",
              "                                                      70, 80, 90, 100, 110],\n",
              "                                        'min_child_weight': [1, 2, 4, 6, 8, 10,\n",
              "                                                             12, 14, 16, 18,\n",
              "                                                             20],\n",
              "                                        'tree_method': ['auto', 'exact',\n",
              "                                                        'approx', 'hist']},\n",
              "                   random_state=42, scoring='f1')"
            ]
          },
          "execution_count": null,
          "metadata": {},
          "output_type": "execute_result"
        }
      ]
    },
    {
      "cell_type": "code",
      "metadata": {
        "id": "ETRXhJw-cd5o"
      },
      "source": [
        "# Predict & Evaluation\n",
        "y_pred = clf_tuned.predict(X_test)\n",
        "probs = clf_tuned.predict_proba(X_test)[:,1]"
      ],
      "execution_count": null,
      "outputs": []
    },
    {
      "cell_type": "code",
      "metadata": {
        "colab": {
          "base_uri": "https://localhost:8080/"
        },
        "id": "N8I6orkxc0JS",
        "outputId": "718c34e1-49db-468d-8016-344fe0109b6f"
      },
      "source": [
        "fpr, tpr, thresholds = metrics.roc_curve(y_test, probs, pos_label=1)\n",
        "auc = metrics.auc(fpr, tpr)\n",
        "print('AUC: '+str(round(auc*100,2))+'%')\n",
        "\n",
        "accuracy = metrics.accuracy_score(y_test, y_pred)\n",
        "print('accuracy: '+str(round(accuracy*100,2))+'%')\n",
        "\n",
        "precision = metrics.precision_score(y_test, y_pred)\n",
        "print('precision: '+str(round(precision*100,2))+'%')\n",
        "\n",
        "recall = metrics.recall_score(y_test, y_pred)\n",
        "print('recall: '+str(round(recall*100,2))+'%')\n",
        "\n",
        "f1_score = metrics.f1_score(y_test, y_pred)\n",
        "print('f1_score: '+str(round(f1_score*100,2))+'%')\n",
        "\n",
        "print('\\n')"
      ],
      "execution_count": null,
      "outputs": [
        {
          "name": "stdout",
          "output_type": "stream",
          "text": [
            "AUC: 99.26%\n",
            "accuracy: 95.46%\n",
            "precision: 95.87%\n",
            "recall: 93.54%\n",
            "f1_score: 94.69%\n",
            "\n",
            "\n"
          ]
        }
      ]
    },
    {
      "cell_type": "code",
      "metadata": {
        "colab": {
          "base_uri": "https://localhost:8080/"
        },
        "id": "ZtfOqi14dOXV",
        "outputId": "64116676-0e6e-4a51-bc58-7ee217be44fd"
      },
      "source": [
        "#Check the best Hyperparameters\n",
        "show_best_hyperparameter(clf_tuned.best_estimator_, hyperparameters)"
      ],
      "execution_count": null,
      "outputs": [
        {
          "name": "stdout",
          "output_type": "stream",
          "text": [
            "Best max_depth: 50\n",
            "Best min_child_weight: 4\n",
            "Best gamma: 1.0\n",
            "Best tree_method: approx\n",
            "Best colsample_bytree: 0.7000000000000001\n",
            "Best eta: 0.31313131313131315\n",
            "Best lambda: 0.6000000000000001\n",
            "Best alpha: 0.6000000000000001\n"
          ]
        }
      ]
    },
    {
      "cell_type": "code",
      "metadata": {
        "colab": {
          "base_uri": "https://localhost:8080/",
          "height": 363
        },
        "id": "xVPBD4yFdA3s",
        "outputId": "7179bbd4-3228-4972-9640-c52683cd90db"
      },
      "source": [
        "perf = {\n",
        "    'experiment': 'Xgboost - Hyperparameter Tunning',\n",
        "    'AUC': str(round(auc*100,2))+'%',\n",
        "    'Accuracy': str(round(accuracy*100,2))+'%',\n",
        "    'Precision': str(round(precision*100,2))+'%',\n",
        "    'Recall': str(round(recall*100,2))+'%',\n",
        "    'F1_Score': str(round(f1_score*100,2))+'%'\n",
        "}\n",
        "performance_log = performance_log.append(perf, ignore_index=True)\n",
        "performance_log"
      ],
      "execution_count": null,
      "outputs": [
        {
          "data": {
            "text/html": [
              "<div>\n",
              "<style scoped>\n",
              "    .dataframe tbody tr th:only-of-type {\n",
              "        vertical-align: middle;\n",
              "    }\n",
              "\n",
              "    .dataframe tbody tr th {\n",
              "        vertical-align: top;\n",
              "    }\n",
              "\n",
              "    .dataframe thead th {\n",
              "        text-align: right;\n",
              "    }\n",
              "</style>\n",
              "<table border=\"1\" class=\"dataframe\">\n",
              "  <thead>\n",
              "    <tr style=\"text-align: right;\">\n",
              "      <th></th>\n",
              "      <th>experiment</th>\n",
              "      <th>AUC</th>\n",
              "      <th>Accuracy</th>\n",
              "      <th>F1_Score</th>\n",
              "      <th>Precision</th>\n",
              "      <th>Recall</th>\n",
              "    </tr>\n",
              "  </thead>\n",
              "  <tbody>\n",
              "    <tr>\n",
              "      <th>0</th>\n",
              "      <td>Logistic Regression</td>\n",
              "      <td>90.86%</td>\n",
              "      <td>85.08%</td>\n",
              "      <td>82.41%</td>\n",
              "      <td>84.15%</td>\n",
              "      <td>80.75%</td>\n",
              "    </tr>\n",
              "    <tr>\n",
              "      <th>1</th>\n",
              "      <td>Decision Tree</td>\n",
              "      <td>92.9%</td>\n",
              "      <td>92.95%</td>\n",
              "      <td>91.9%</td>\n",
              "      <td>91.42%</td>\n",
              "      <td>92.4%</td>\n",
              "    </tr>\n",
              "    <tr>\n",
              "      <th>2</th>\n",
              "      <td>Xgboost</td>\n",
              "      <td>97.97%</td>\n",
              "      <td>92.68%</td>\n",
              "      <td>91.38%</td>\n",
              "      <td>93.24%</td>\n",
              "      <td>89.6%</td>\n",
              "    </tr>\n",
              "    <tr>\n",
              "      <th>3</th>\n",
              "      <td>Logistic Regression - BorSMOTE</td>\n",
              "      <td>90.78%</td>\n",
              "      <td>83.74%</td>\n",
              "      <td>81.98%</td>\n",
              "      <td>78.76%</td>\n",
              "      <td>85.49%</td>\n",
              "    </tr>\n",
              "    <tr>\n",
              "      <th>4</th>\n",
              "      <td>Decision Tree - BorSMOTE</td>\n",
              "      <td>92.39%</td>\n",
              "      <td>92.4%</td>\n",
              "      <td>91.31%</td>\n",
              "      <td>90.39%</td>\n",
              "      <td>92.26%</td>\n",
              "    </tr>\n",
              "    <tr>\n",
              "      <th>5</th>\n",
              "      <td>Xgboost - BorSMOTE</td>\n",
              "      <td>97.8%</td>\n",
              "      <td>91.71%</td>\n",
              "      <td>90.82%</td>\n",
              "      <td>87.28%</td>\n",
              "      <td>94.65%</td>\n",
              "    </tr>\n",
              "    <tr>\n",
              "      <th>6</th>\n",
              "      <td>Logistic Regression - ADASYN</td>\n",
              "      <td>90.79%</td>\n",
              "      <td>83.95%</td>\n",
              "      <td>82.12%</td>\n",
              "      <td>79.3%</td>\n",
              "      <td>85.16%</td>\n",
              "    </tr>\n",
              "    <tr>\n",
              "      <th>7</th>\n",
              "      <td>Decision Tree - ADASYN</td>\n",
              "      <td>92.51%</td>\n",
              "      <td>92.51%</td>\n",
              "      <td>91.44%</td>\n",
              "      <td>90.47%</td>\n",
              "      <td>92.43%</td>\n",
              "    </tr>\n",
              "    <tr>\n",
              "      <th>8</th>\n",
              "      <td>Xgboost - ADASYN</td>\n",
              "      <td>97.79%</td>\n",
              "      <td>91.83%</td>\n",
              "      <td>90.86%</td>\n",
              "      <td>88.16%</td>\n",
              "      <td>93.72%</td>\n",
              "    </tr>\n",
              "    <tr>\n",
              "      <th>9</th>\n",
              "      <td>Xgboost - Hyperparameter Tunning</td>\n",
              "      <td>99.26%</td>\n",
              "      <td>95.46%</td>\n",
              "      <td>94.69%</td>\n",
              "      <td>95.87%</td>\n",
              "      <td>93.54%</td>\n",
              "    </tr>\n",
              "  </tbody>\n",
              "</table>\n",
              "</div>"
            ],
            "text/plain": [
              "                         experiment     AUC Accuracy F1_Score Precision  Recall\n",
              "0               Logistic Regression  90.86%   85.08%   82.41%    84.15%  80.75%\n",
              "1                     Decision Tree   92.9%   92.95%    91.9%    91.42%   92.4%\n",
              "2                           Xgboost  97.97%   92.68%   91.38%    93.24%   89.6%\n",
              "3    Logistic Regression - BorSMOTE  90.78%   83.74%   81.98%    78.76%  85.49%\n",
              "4          Decision Tree - BorSMOTE  92.39%    92.4%   91.31%    90.39%  92.26%\n",
              "5                Xgboost - BorSMOTE   97.8%   91.71%   90.82%    87.28%  94.65%\n",
              "6      Logistic Regression - ADASYN  90.79%   83.95%   82.12%     79.3%  85.16%\n",
              "7            Decision Tree - ADASYN  92.51%   92.51%   91.44%    90.47%  92.43%\n",
              "8                  Xgboost - ADASYN  97.79%   91.83%   90.86%    88.16%  93.72%\n",
              "9  Xgboost - Hyperparameter Tunning  99.26%   95.46%   94.69%    95.87%  93.54%"
            ]
          },
          "execution_count": 51,
          "metadata": {},
          "output_type": "execute_result"
        }
      ]
    },
    {
      "cell_type": "markdown",
      "metadata": {
        "id": "IapwOnBjdVNo"
      },
      "source": [
        "## Evaluation"
      ]
    },
    {
      "cell_type": "code",
      "metadata": {
        "colab": {
          "base_uri": "https://localhost:8080/",
          "height": 503
        },
        "id": "foOrATB-dUgA",
        "outputId": "e9267681-434a-419b-aa8c-bf2df0d04186"
      },
      "source": [
        "#AUC\n",
        "plt.title('Receiver Operating Characteristic')\n",
        "plt.plot(fpr, tpr, 'b', label = 'AUC = %0.2f' % auc)\n",
        "plt.legend(loc = 'lower right')\n",
        "plt.plot([0, 1], [0, 1],'r--')\n",
        "plt.xlim([0, 1])\n",
        "plt.ylim([0, 1])\n",
        "plt.ylabel('True Positive Rate')\n",
        "plt.xlabel('False Positive Rate')\n",
        "plt.show()"
      ],
      "execution_count": null,
      "outputs": [
        {
          "data": {
            "image/png": "[encoded data removed]",
            "text/plain": [
              "<Figure size 1152x576 with 1 Axes>"
            ]
          },
          "metadata": {},
          "output_type": "display_data"
        }
      ]
    },
    {
      "cell_type": "markdown",
      "metadata": {
        "id": "OUrUA78jdcuS"
      },
      "source": [
        "##Feature importance"
      ]
    },
    {
      "cell_type": "code",
      "metadata": {
        "colab": {
          "base_uri": "https://localhost:8080/"
        },
        "id": "goKh6rBkdebD",
        "outputId": "3bda4228-22de-4de5-a1df-ff0318ae6657"
      },
      "source": [
        "clf_tuned.best_estimator_.feature_importances_"
      ],
      "execution_count": null,
      "outputs": [
        {
          "data": {
            "text/plain": [
              "array([0.04064405, 0.00501954, 0.1553969 , 0.01361322, 0.01978823,\n",
              "       0.01332472, 0.00949761, 0.16294606, 0.00850521, 0.0401173 ,\n",
              "       0.00694458, 0.01660462, 0.00807044, 0.00889351, 0.00807638,\n",
              "       0.01269058, 0.00314397, 0.00456564, 0.39825067, 0.04753842,\n",
              "       0.01636832], dtype=float32)"
            ]
          },
          "execution_count": 53,
          "metadata": {},
          "output_type": "execute_result"
        }
      ]
    },
    {
      "cell_type": "code",
      "metadata": {
        "colab": {
          "base_uri": "https://localhost:8080/",
          "height": 572
        },
        "id": "YevCMruMdg8j",
        "outputId": "379987aa-a961-4699-831e-71318c62dca3"
      },
      "source": [
        "feat_importances = pd.Series(clf_tuned.best_estimator_.feature_importances_, index=X.columns)\n",
        "ax = feat_importances.nlargest(25).plot(kind='barh', figsize=(10, 8))\n",
        "ax.invert_yaxis()\n",
        "\n",
        "plt.xlabel('Score')\n",
        "plt.ylabel('Feature')\n",
        "plt.title('Feature Importance Score')"
      ],
      "execution_count": null,
      "outputs": [
        {
          "data": {
            "text/plain": [
              "Text(0.5, 1.0, 'Feature Importance Score')"
            ]
          },
          "execution_count": 54,
          "metadata": {},
          "output_type": "execute_result"
        },
        {
          "data": {
            "image/png": "[encoded data removed]",
            "text/plain": [
              "<Figure size 720x576 with 1 Axes>"
            ]
          },
          "metadata": {},
          "output_type": "display_data"
        }
      ]
    },
    {
      "cell_type": "markdown",
      "metadata": {
        "id": "sUNn9VdMhjB2"
      },
      "source": [
        "Performance Summary"
      ]
    },
    {
      "cell_type": "code",
      "metadata": {
        "colab": {
          "base_uri": "https://localhost:8080/",
          "height": 363
        },
        "id": "2KSXl0FXdk65",
        "outputId": "85691383-da3e-48e3-ac74-9e7b2eda0e6a"
      },
      "source": [
        "performance_log"
      ],
      "execution_count": null,
      "outputs": [
        {
          "data": {
            "text/html": [
              "<div>\n",
              "<style scoped>\n",
              "    .dataframe tbody tr th:only-of-type {\n",
              "        vertical-align: middle;\n",
              "    }\n",
              "\n",
              "    .dataframe tbody tr th {\n",
              "        vertical-align: top;\n",
              "    }\n",
              "\n",
              "    .dataframe thead th {\n",
              "        text-align: right;\n",
              "    }\n",
              "</style>\n",
              "<table border=\"1\" class=\"dataframe\">\n",
              "  <thead>\n",
              "    <tr style=\"text-align: right;\">\n",
              "      <th></th>\n",
              "      <th>experiment</th>\n",
              "      <th>AUC</th>\n",
              "      <th>Accuracy</th>\n",
              "      <th>F1_Score</th>\n",
              "      <th>Precision</th>\n",
              "      <th>Recall</th>\n",
              "    </tr>\n",
              "  </thead>\n",
              "  <tbody>\n",
              "    <tr>\n",
              "      <th>0</th>\n",
              "      <td>Logistic Regression</td>\n",
              "      <td>90.86%</td>\n",
              "      <td>85.08%</td>\n",
              "      <td>82.41%</td>\n",
              "      <td>84.15%</td>\n",
              "      <td>80.75%</td>\n",
              "    </tr>\n",
              "    <tr>\n",
              "      <th>1</th>\n",
              "      <td>Decision Tree</td>\n",
              "      <td>92.9%</td>\n",
              "      <td>92.95%</td>\n",
              "      <td>91.9%</td>\n",
              "      <td>91.42%</td>\n",
              "      <td>92.4%</td>\n",
              "    </tr>\n",
              "    <tr>\n",
              "      <th>2</th>\n",
              "      <td>Xgboost</td>\n",
              "      <td>97.97%</td>\n",
              "      <td>92.68%</td>\n",
              "      <td>91.38%</td>\n",
              "      <td>93.24%</td>\n",
              "      <td>89.6%</td>\n",
              "    </tr>\n",
              "    <tr>\n",
              "      <th>3</th>\n",
              "      <td>Logistic Regression - BorSMOTE</td>\n",
              "      <td>90.78%</td>\n",
              "      <td>83.74%</td>\n",
              "      <td>81.98%</td>\n",
              "      <td>78.76%</td>\n",
              "      <td>85.49%</td>\n",
              "    </tr>\n",
              "    <tr>\n",
              "      <th>4</th>\n",
              "      <td>Decision Tree - BorSMOTE</td>\n",
              "      <td>92.39%</td>\n",
              "      <td>92.4%</td>\n",
              "      <td>91.31%</td>\n",
              "      <td>90.39%</td>\n",
              "      <td>92.26%</td>\n",
              "    </tr>\n",
              "    <tr>\n",
              "      <th>5</th>\n",
              "      <td>Xgboost - BorSMOTE</td>\n",
              "      <td>97.8%</td>\n",
              "      <td>91.71%</td>\n",
              "      <td>90.82%</td>\n",
              "      <td>87.28%</td>\n",
              "      <td>94.65%</td>\n",
              "    </tr>\n",
              "    <tr>\n",
              "      <th>6</th>\n",
              "      <td>Logistic Regression - ADASYN</td>\n",
              "      <td>90.79%</td>\n",
              "      <td>83.95%</td>\n",
              "      <td>82.12%</td>\n",
              "      <td>79.3%</td>\n",
              "      <td>85.16%</td>\n",
              "    </tr>\n",
              "    <tr>\n",
              "      <th>7</th>\n",
              "      <td>Decision Tree - ADASYN</td>\n",
              "      <td>92.51%</td>\n",
              "      <td>92.51%</td>\n",
              "      <td>91.44%</td>\n",
              "      <td>90.47%</td>\n",
              "      <td>92.43%</td>\n",
              "    </tr>\n",
              "    <tr>\n",
              "      <th>8</th>\n",
              "      <td>Xgboost - ADASYN</td>\n",
              "      <td>97.79%</td>\n",
              "      <td>91.83%</td>\n",
              "      <td>90.86%</td>\n",
              "      <td>88.16%</td>\n",
              "      <td>93.72%</td>\n",
              "    </tr>\n",
              "    <tr>\n",
              "      <th>9</th>\n",
              "      <td>Xgboost - Hyperparameter Tunning</td>\n",
              "      <td>99.26%</td>\n",
              "      <td>95.46%</td>\n",
              "      <td>94.69%</td>\n",
              "      <td>95.87%</td>\n",
              "      <td>93.54%</td>\n",
              "    </tr>\n",
              "  </tbody>\n",
              "</table>\n",
              "</div>"
            ],
            "text/plain": [
              "                         experiment     AUC Accuracy F1_Score Precision  Recall\n",
              "0               Logistic Regression  90.86%   85.08%   82.41%    84.15%  80.75%\n",
              "1                     Decision Tree   92.9%   92.95%    91.9%    91.42%   92.4%\n",
              "2                           Xgboost  97.97%   92.68%   91.38%    93.24%   89.6%\n",
              "3    Logistic Regression - BorSMOTE  90.78%   83.74%   81.98%    78.76%  85.49%\n",
              "4          Decision Tree - BorSMOTE  92.39%    92.4%   91.31%    90.39%  92.26%\n",
              "5                Xgboost - BorSMOTE   97.8%   91.71%   90.82%    87.28%  94.65%\n",
              "6      Logistic Regression - ADASYN  90.79%   83.95%   82.12%     79.3%  85.16%\n",
              "7            Decision Tree - ADASYN  92.51%   92.51%   91.44%    90.47%  92.43%\n",
              "8                  Xgboost - ADASYN  97.79%   91.83%   90.86%    88.16%  93.72%\n",
              "9  Xgboost - Hyperparameter Tunning  99.26%   95.46%   94.69%    95.87%  93.54%"
            ]
          },
          "execution_count": 55,
          "metadata": {},
          "output_type": "execute_result"
        }
      ]
    },
    {
      "cell_type": "markdown",
      "metadata": {
        "id": "uOtOdYdnh4GR"
      },
      "source": [
        "Checking overfitting/underfitting"
      ]
    },
    {
      "cell_type": "code",
      "metadata": {
        "colab": {
          "base_uri": "https://localhost:8080/"
        },
        "id": "Ky8maTZ5hnhA",
        "outputId": "4ebf10d9-6c04-4b35-a8d4-1e2253c04be6"
      },
      "source": [
        "print('train accuracy : ', str(round(clf_tuned.score(X_train, y_train),2)*100), '%')\n",
        "print('test accuracy : ', str(round(clf_tuned.score(X_test, y_test),2)*100), '%')"
      ],
      "execution_count": null,
      "outputs": [
        {
          "name": "stdout",
          "output_type": "stream",
          "text": [
            "train accuracy :  99.0 %\n",
            "test accuracy :  95.0 %\n"
          ]
        }
      ]
    },
    {
      "cell_type": "code",
      "metadata": {
        "colab": {
          "base_uri": "https://localhost:8080/",
          "height": 189
        },
        "id": "MyQTcXjLiBLv",
        "outputId": "fcd7c7aa-a712-4d68-f34e-49628a3f79fc"
      },
      "source": [
        "print('train error : ', str(round(clf_tuned.error_score(X_train, y_train),2)*100), '%')\n",
        "print('test error : ', str(round(clf_tuned.error_score(X_test, y_test),2)*100), '%')"
      ],
      "execution_count": null,
      "outputs": [
        {
          "ename": "TypeError",
          "evalue": "ignored",
          "output_type": "error",
          "traceback": [
            "\u001b[0;31m---------------------------------------------------------------------------\u001b[0m",
            "\u001b[0;31mTypeError\u001b[0m                                 Traceback (most recent call last)",
            "\u001b[0;32m<ipython-input-56-4240d4fed61b>\u001b[0m in \u001b[0;36m<module>\u001b[0;34m()\u001b[0m\n\u001b[0;32m----> 1\u001b[0;31m \u001b[0mprint\u001b[0m\u001b[0;34m(\u001b[0m\u001b[0;34m'train error : '\u001b[0m\u001b[0;34m,\u001b[0m \u001b[0mstr\u001b[0m\u001b[0;34m(\u001b[0m\u001b[0mround\u001b[0m\u001b[0;34m(\u001b[0m\u001b[0mclf_tuned\u001b[0m\u001b[0;34m.\u001b[0m\u001b[0merror_score\u001b[0m\u001b[0;34m(\u001b[0m\u001b[0mX_train\u001b[0m\u001b[0;34m,\u001b[0m \u001b[0my_train\u001b[0m\u001b[0;34m)\u001b[0m\u001b[0;34m,\u001b[0m\u001b[0;36m2\u001b[0m\u001b[0;34m)\u001b[0m\u001b[0;34m*\u001b[0m\u001b[0;36m100\u001b[0m\u001b[0;34m)\u001b[0m\u001b[0;34m,\u001b[0m \u001b[0;34m'%'\u001b[0m\u001b[0;34m)\u001b[0m\u001b[0;34m\u001b[0m\u001b[0;34m\u001b[0m\u001b[0m\n\u001b[0m\u001b[1;32m      2\u001b[0m \u001b[0mprint\u001b[0m\u001b[0;34m(\u001b[0m\u001b[0;34m'test error : '\u001b[0m\u001b[0;34m,\u001b[0m \u001b[0mstr\u001b[0m\u001b[0;34m(\u001b[0m\u001b[0mround\u001b[0m\u001b[0;34m(\u001b[0m\u001b[0mclf_tuned\u001b[0m\u001b[0;34m.\u001b[0m\u001b[0merror_score\u001b[0m\u001b[0;34m(\u001b[0m\u001b[0mX_test\u001b[0m\u001b[0;34m,\u001b[0m \u001b[0my_test\u001b[0m\u001b[0;34m)\u001b[0m\u001b[0;34m,\u001b[0m\u001b[0;36m2\u001b[0m\u001b[0;34m)\u001b[0m\u001b[0;34m*\u001b[0m\u001b[0;36m100\u001b[0m\u001b[0;34m)\u001b[0m\u001b[0;34m,\u001b[0m \u001b[0;34m'%'\u001b[0m\u001b[0;34m)\u001b[0m\u001b[0;34m\u001b[0m\u001b[0;34m\u001b[0m\u001b[0m\n",
            "\u001b[0;31mTypeError\u001b[0m: 'float' object is not callable"
          ]
        }
      ]
    },
    {
      "cell_type": "code",
      "metadata": {
        "id": "4x3wAHF5U1Ll"
      },
      "source": [
        "?clf_tuned"
      ],
      "execution_count": null,
      "outputs": []
    },
    {
      "cell_type": "code",
      "metadata": {
        "colab": {
          "base_uri": "https://localhost:8080/",
          "height": 36
        },
        "id": "9CzrnTTgU9uz",
        "outputId": "21edb8c8-7885-4d21-bdae-f762613333cc"
      },
      "source": [
        "clf_tuned.scoring"
      ],
      "execution_count": null,
      "outputs": [
        {
          "data": {
            "application/vnd.google.colaboratory.intrinsic+json": {
              "type": "string"
            },
            "text/plain": [
              "'f1'"
            ]
          },
          "execution_count": 61,
          "metadata": {},
          "output_type": "execute_result"
        }
      ]
    },
    {
      "cell_type": "code",
      "metadata": {
        "id": "jGKXSkebViee"
      },
      "source": [
        "accuracy = metrics.accuracy_score(y_test, y_pred)\n",
        "print('accuracy: '+str(round(accuracy*100,2))+'%')\n",
        "\n",
        "precision = metrics.precision_score(y_test, y_pred)\n",
        "print('precision: '+str(round(precision*100,2))+'%')\n",
        "\n",
        "recall = metrics.recall_score(y_test, y_pred)\n",
        "print('recall: '+str(round(recall*100,2))+'%')\n",
        "\n",
        "f1_score = metrics.f1_score(y_test, y_pred)\n",
        "print('f1_score: '+str(round(f1_score*100,2))+'%')\n",
        "\n",
        "print('\\n')"
      ],
      "execution_count": null,
      "outputs": []
    }
  ]
}